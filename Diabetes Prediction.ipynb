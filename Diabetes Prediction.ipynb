{
 "cells": [
  {
   "cell_type": "markdown",
   "metadata": {},
   "source": [
    "The ML models for this project will be trained on the [Pima Indians Diabetes Database](https://www.kaggle.com/uciml/pima-indians-diabetes-database) gotten from [Kaggle](https://www.kaggle.com/). The dataset contains various columns of  predictors of Diabetes and a prediction value column, 'Outcome' with 1 for positive and 0 for negative. \n",
    "\n",
    "Disclaimer: This model is not a robust model and cannot be implemented in real life for the following reasons\n",
    "\n",
    "1) The training dataset sample fails at being representative. For statistical tests to be valid, representative samples should be used as they yield insights that clearly depict the dynamics of the population\n",
    "\n",
    "2) There is more room to improve the efficiency of the models by applying a better knowledge of feature selection and feature engineering in the medical domain.\n",
    "\n",
    "3) The model focuses more on the female gender.\n",
    "\n",
    "However, this implementation focuses on how supervised machine learning models can be used in the health industry."
   ]
  },
  {
   "cell_type": "markdown",
   "metadata": {},
   "source": [
    "# The Code"
   ]
  },
  {
   "cell_type": "markdown",
   "metadata": {},
   "source": [
    "We start by importing libraries relevant to this project"
   ]
  },
  {
   "cell_type": "code",
   "execution_count": 1,
   "metadata": {},
   "outputs": [],
   "source": [
    "import numpy as np\n",
    "import pandas as pd\n",
    "import matplotlib.pyplot as plt\n",
    "import seaborn as sns\n",
    "sns.set()\n",
    "from sklearn.ensemble import RandomForestClassifier\n",
    "from sklearn.preprocessing import StandardScaler\n",
    "from sklearn.linear_model import LogisticRegression\n",
    "from sklearn.model_selection import train_test_split\n",
    "from sklearn.metrics import confusion_matrix\n",
    "from sklearn.metrics import roc_curve\n",
    "from sklearn.metrics import roc_auc_score"
   ]
  },
  {
   "cell_type": "markdown",
   "metadata": {},
   "source": [
    "reading the file into a pandas dataframe"
   ]
  },
  {
   "cell_type": "code",
   "execution_count": 2,
   "metadata": {},
   "outputs": [],
   "source": [
    "df = pd.read_csv(r'C:\\Users\\Tobi\\Desktop\\coding\\diabetes.csv')"
   ]
  },
  {
   "cell_type": "markdown",
   "metadata": {},
   "source": [
    "It is a good practice to always check the first few rows of the dataset and the data-types of each column inorder to have an insight of what the dataset contains."
   ]
  },
  {
   "cell_type": "code",
   "execution_count": 3,
   "metadata": {
    "scrolled": true
   },
   "outputs": [
    {
     "data": {
      "text/html": [
       "<div>\n",
       "<style scoped>\n",
       "    .dataframe tbody tr th:only-of-type {\n",
       "        vertical-align: middle;\n",
       "    }\n",
       "\n",
       "    .dataframe tbody tr th {\n",
       "        vertical-align: top;\n",
       "    }\n",
       "\n",
       "    .dataframe thead th {\n",
       "        text-align: right;\n",
       "    }\n",
       "</style>\n",
       "<table border=\"1\" class=\"dataframe\">\n",
       "  <thead>\n",
       "    <tr style=\"text-align: right;\">\n",
       "      <th></th>\n",
       "      <th>Pregnancies</th>\n",
       "      <th>Glucose</th>\n",
       "      <th>BloodPressure</th>\n",
       "      <th>SkinThickness</th>\n",
       "      <th>Insulin</th>\n",
       "      <th>BMI</th>\n",
       "      <th>DiabetesPedigreeFunction</th>\n",
       "      <th>Age</th>\n",
       "      <th>Outcome</th>\n",
       "    </tr>\n",
       "  </thead>\n",
       "  <tbody>\n",
       "    <tr>\n",
       "      <th>0</th>\n",
       "      <td>6</td>\n",
       "      <td>148</td>\n",
       "      <td>72</td>\n",
       "      <td>35</td>\n",
       "      <td>0</td>\n",
       "      <td>33.6</td>\n",
       "      <td>0.627</td>\n",
       "      <td>50</td>\n",
       "      <td>1</td>\n",
       "    </tr>\n",
       "    <tr>\n",
       "      <th>1</th>\n",
       "      <td>1</td>\n",
       "      <td>85</td>\n",
       "      <td>66</td>\n",
       "      <td>29</td>\n",
       "      <td>0</td>\n",
       "      <td>26.6</td>\n",
       "      <td>0.351</td>\n",
       "      <td>31</td>\n",
       "      <td>0</td>\n",
       "    </tr>\n",
       "    <tr>\n",
       "      <th>2</th>\n",
       "      <td>8</td>\n",
       "      <td>183</td>\n",
       "      <td>64</td>\n",
       "      <td>0</td>\n",
       "      <td>0</td>\n",
       "      <td>23.3</td>\n",
       "      <td>0.672</td>\n",
       "      <td>32</td>\n",
       "      <td>1</td>\n",
       "    </tr>\n",
       "    <tr>\n",
       "      <th>3</th>\n",
       "      <td>1</td>\n",
       "      <td>89</td>\n",
       "      <td>66</td>\n",
       "      <td>23</td>\n",
       "      <td>94</td>\n",
       "      <td>28.1</td>\n",
       "      <td>0.167</td>\n",
       "      <td>21</td>\n",
       "      <td>0</td>\n",
       "    </tr>\n",
       "    <tr>\n",
       "      <th>4</th>\n",
       "      <td>0</td>\n",
       "      <td>137</td>\n",
       "      <td>40</td>\n",
       "      <td>35</td>\n",
       "      <td>168</td>\n",
       "      <td>43.1</td>\n",
       "      <td>2.288</td>\n",
       "      <td>33</td>\n",
       "      <td>1</td>\n",
       "    </tr>\n",
       "  </tbody>\n",
       "</table>\n",
       "</div>"
      ],
      "text/plain": [
       "   Pregnancies  Glucose  BloodPressure  SkinThickness  Insulin   BMI  \\\n",
       "0            6      148             72             35        0  33.6   \n",
       "1            1       85             66             29        0  26.6   \n",
       "2            8      183             64              0        0  23.3   \n",
       "3            1       89             66             23       94  28.1   \n",
       "4            0      137             40             35      168  43.1   \n",
       "\n",
       "   DiabetesPedigreeFunction  Age  Outcome  \n",
       "0                     0.627   50        1  \n",
       "1                     0.351   31        0  \n",
       "2                     0.672   32        1  \n",
       "3                     0.167   21        0  \n",
       "4                     2.288   33        1  "
      ]
     },
     "execution_count": 3,
     "metadata": {},
     "output_type": "execute_result"
    }
   ],
   "source": [
    "df.head()"
   ]
  },
  {
   "cell_type": "code",
   "execution_count": 4,
   "metadata": {},
   "outputs": [
    {
     "name": "stdout",
     "output_type": "stream",
     "text": [
      "<class 'pandas.core.frame.DataFrame'>\n",
      "RangeIndex: 768 entries, 0 to 767\n",
      "Data columns (total 9 columns):\n",
      " #   Column                    Non-Null Count  Dtype  \n",
      "---  ------                    --------------  -----  \n",
      " 0   Pregnancies               768 non-null    int64  \n",
      " 1   Glucose                   768 non-null    int64  \n",
      " 2   BloodPressure             768 non-null    int64  \n",
      " 3   SkinThickness             768 non-null    int64  \n",
      " 4   Insulin                   768 non-null    int64  \n",
      " 5   BMI                       768 non-null    float64\n",
      " 6   DiabetesPedigreeFunction  768 non-null    float64\n",
      " 7   Age                       768 non-null    int64  \n",
      " 8   Outcome                   768 non-null    int64  \n",
      "dtypes: float64(2), int64(7)\n",
      "memory usage: 54.1 KB\n"
     ]
    }
   ],
   "source": [
    "df.info()"
   ]
  },
  {
   "cell_type": "markdown",
   "metadata": {},
   "source": [
    "The dataset contains 9 columns and 768 rows"
   ]
  },
  {
   "cell_type": "markdown",
   "metadata": {},
   "source": [
    "## Data Cleaning\n",
    "In data science, major challenges usually emanate inconsistency and invalidity of entries. I start by checking for missing  and invalid entries "
   ]
  },
  {
   "cell_type": "code",
   "execution_count": 5,
   "metadata": {},
   "outputs": [
    {
     "data": {
      "text/plain": [
       "Pregnancies                 0\n",
       "Glucose                     0\n",
       "BloodPressure               0\n",
       "SkinThickness               0\n",
       "Insulin                     0\n",
       "BMI                         0\n",
       "DiabetesPedigreeFunction    0\n",
       "Age                         0\n",
       "Outcome                     0\n",
       "dtype: int64"
      ]
     },
     "execution_count": 5,
     "metadata": {},
     "output_type": "execute_result"
    }
   ],
   "source": [
    "df.isnull().sum()"
   ]
  },
  {
   "cell_type": "markdown",
   "metadata": {},
   "source": [
    "It looks like we have no missing values in our dataset. This is a rare case and might be a pointer to invalid entries in our dataset as real world data are usually messier with missing values or invalid entries"
   ]
  },
  {
   "cell_type": "code",
   "execution_count": 6,
   "metadata": {},
   "outputs": [
    {
     "data": {
      "text/plain": [
       "array([[<matplotlib.axes._subplots.AxesSubplot object at 0x0000017C3DDB2D08>,\n",
       "        <matplotlib.axes._subplots.AxesSubplot object at 0x0000017C3DE70048>,\n",
       "        <matplotlib.axes._subplots.AxesSubplot object at 0x0000017C3DEA3F08>],\n",
       "       [<matplotlib.axes._subplots.AxesSubplot object at 0x0000017C3DEDF048>,\n",
       "        <matplotlib.axes._subplots.AxesSubplot object at 0x0000017C3DF19188>,\n",
       "        <matplotlib.axes._subplots.AxesSubplot object at 0x0000017C3DF51288>],\n",
       "       [<matplotlib.axes._subplots.AxesSubplot object at 0x0000017C3DF8A388>,\n",
       "        <matplotlib.axes._subplots.AxesSubplot object at 0x0000017C3DFC5F08>,\n",
       "        <matplotlib.axes._subplots.AxesSubplot object at 0x0000017C3DFCE048>]],\n",
       "      dtype=object)"
      ]
     },
     "execution_count": 6,
     "metadata": {},
     "output_type": "execute_result"
    },
    {
     "data": {
      "image/png": "[encoded data removed]",
      "text/plain": [
       "<Figure size 864x864 with 9 Axes>"
      ]
     },
     "metadata": {},
     "output_type": "display_data"
    }
   ],
   "source": [
    "df.hist(figsize=(12,12))"
   ]
  },
  {
   "cell_type": "raw",
   "metadata": {},
   "source": [
    "After some google searches, i realized some of the features with '0' values  are invalid.\n",
    "I move forward o check for rows with 0 values and their frequencies"
   ]
  },
  {
   "cell_type": "code",
   "execution_count": 7,
   "metadata": {},
   "outputs": [
    {
     "name": "stdout",
     "output_type": "stream",
     "text": [
      "Pregnancies : 111\n",
      "Glucose : 5\n",
      "BloodPressure : 35\n",
      "SkinThickness : 227\n",
      "Insulin : 374\n",
      "BMI : 11\n",
      "DiabetesPedigreeFunction : 0\n",
      "Age : 0\n",
      "Outcome : 500\n"
     ]
    }
   ],
   "source": [
    "cols = df.columns.to_list()\n",
    "for col in cols:\n",
    "    count = df.loc[df[col]==0].shape[0]\n",
    "    print(col,':', count)"
   ]
  },
  {
   "cell_type": "markdown",
   "metadata": {},
   "source": [
    "From knowledge in the medical domain, we know that it's bizzare for Glucose level, blood pressure, skin thickness, insulin level, Body Mass Index(BMI), and age to have 0 as a value. These are pointers to invalid entries. There are various ways to fix this depending on context. Because our dataset has few records,discarding the rows with invalid 0 values will make us lose most of the records in our dataset. This isn't a model to be used in real life so we'll be replacing the 0 values in the selcted column with their respective mean values."
   ]
  },
  {
   "cell_type": "code",
   "execution_count": 8,
   "metadata": {},
   "outputs": [],
   "source": [
    "cols_to_change = ['Glucose','BloodPressure','SkinThickness','Insulin','BMI','Age']\n",
    "for i in cols_to_change:\n",
    "    df[i] = df[i].replace(0,df[i].mean())"
   ]
  },
  {
   "cell_type": "markdown",
   "metadata": {},
   "source": [
    "Tip:  When you make chages to your dataset, check to see if the intended changes were effected"
   ]
  },
  {
   "cell_type": "code",
   "execution_count": 9,
   "metadata": {},
   "outputs": [
    {
     "name": "stdout",
     "output_type": "stream",
     "text": [
      "Pregnancies : 111\n",
      "Glucose : 0\n",
      "BloodPressure : 0\n",
      "SkinThickness : 0\n",
      "Insulin : 0\n",
      "BMI : 0\n",
      "DiabetesPedigreeFunction : 0\n",
      "Age : 0\n",
      "Outcome : 500\n"
     ]
    }
   ],
   "source": [
    "for col in cols:\n",
    "    count = df.loc[df[col]==0].shape[0]\n",
    "    print(col,':', count)"
   ]
  },
  {
   "cell_type": "code",
   "execution_count": 10,
   "metadata": {},
   "outputs": [
    {
     "data": {
      "text/html": [
       "<div>\n",
       "<style scoped>\n",
       "    .dataframe tbody tr th:only-of-type {\n",
       "        vertical-align: middle;\n",
       "    }\n",
       "\n",
       "    .dataframe tbody tr th {\n",
       "        vertical-align: top;\n",
       "    }\n",
       "\n",
       "    .dataframe thead th {\n",
       "        text-align: right;\n",
       "    }\n",
       "</style>\n",
       "<table border=\"1\" class=\"dataframe\">\n",
       "  <thead>\n",
       "    <tr style=\"text-align: right;\">\n",
       "      <th></th>\n",
       "      <th>Pregnancies</th>\n",
       "      <th>Glucose</th>\n",
       "      <th>BloodPressure</th>\n",
       "      <th>SkinThickness</th>\n",
       "      <th>Insulin</th>\n",
       "      <th>BMI</th>\n",
       "      <th>DiabetesPedigreeFunction</th>\n",
       "      <th>Age</th>\n",
       "      <th>Outcome</th>\n",
       "    </tr>\n",
       "  </thead>\n",
       "  <tbody>\n",
       "    <tr>\n",
       "      <th>count</th>\n",
       "      <td>768.000000</td>\n",
       "      <td>768.000000</td>\n",
       "      <td>768.000000</td>\n",
       "      <td>768.000000</td>\n",
       "      <td>768.000000</td>\n",
       "      <td>768.000000</td>\n",
       "      <td>768.000000</td>\n",
       "      <td>768.000000</td>\n",
       "      <td>768.000000</td>\n",
       "    </tr>\n",
       "    <tr>\n",
       "      <th>mean</th>\n",
       "      <td>3.845052</td>\n",
       "      <td>121.681605</td>\n",
       "      <td>72.254807</td>\n",
       "      <td>26.606479</td>\n",
       "      <td>118.660163</td>\n",
       "      <td>32.450805</td>\n",
       "      <td>0.471876</td>\n",
       "      <td>33.240885</td>\n",
       "      <td>0.348958</td>\n",
       "    </tr>\n",
       "    <tr>\n",
       "      <th>std</th>\n",
       "      <td>3.369578</td>\n",
       "      <td>30.436016</td>\n",
       "      <td>12.115932</td>\n",
       "      <td>9.631241</td>\n",
       "      <td>93.080358</td>\n",
       "      <td>6.875374</td>\n",
       "      <td>0.331329</td>\n",
       "      <td>11.760232</td>\n",
       "      <td>0.476951</td>\n",
       "    </tr>\n",
       "    <tr>\n",
       "      <th>min</th>\n",
       "      <td>0.000000</td>\n",
       "      <td>44.000000</td>\n",
       "      <td>24.000000</td>\n",
       "      <td>7.000000</td>\n",
       "      <td>14.000000</td>\n",
       "      <td>18.200000</td>\n",
       "      <td>0.078000</td>\n",
       "      <td>21.000000</td>\n",
       "      <td>0.000000</td>\n",
       "    </tr>\n",
       "    <tr>\n",
       "      <th>25%</th>\n",
       "      <td>1.000000</td>\n",
       "      <td>99.750000</td>\n",
       "      <td>64.000000</td>\n",
       "      <td>20.536458</td>\n",
       "      <td>79.799479</td>\n",
       "      <td>27.500000</td>\n",
       "      <td>0.243750</td>\n",
       "      <td>24.000000</td>\n",
       "      <td>0.000000</td>\n",
       "    </tr>\n",
       "    <tr>\n",
       "      <th>50%</th>\n",
       "      <td>3.000000</td>\n",
       "      <td>117.000000</td>\n",
       "      <td>72.000000</td>\n",
       "      <td>23.000000</td>\n",
       "      <td>79.799479</td>\n",
       "      <td>32.000000</td>\n",
       "      <td>0.372500</td>\n",
       "      <td>29.000000</td>\n",
       "      <td>0.000000</td>\n",
       "    </tr>\n",
       "    <tr>\n",
       "      <th>75%</th>\n",
       "      <td>6.000000</td>\n",
       "      <td>140.250000</td>\n",
       "      <td>80.000000</td>\n",
       "      <td>32.000000</td>\n",
       "      <td>127.250000</td>\n",
       "      <td>36.600000</td>\n",
       "      <td>0.626250</td>\n",
       "      <td>41.000000</td>\n",
       "      <td>1.000000</td>\n",
       "    </tr>\n",
       "    <tr>\n",
       "      <th>max</th>\n",
       "      <td>17.000000</td>\n",
       "      <td>199.000000</td>\n",
       "      <td>122.000000</td>\n",
       "      <td>99.000000</td>\n",
       "      <td>846.000000</td>\n",
       "      <td>67.100000</td>\n",
       "      <td>2.420000</td>\n",
       "      <td>81.000000</td>\n",
       "      <td>1.000000</td>\n",
       "    </tr>\n",
       "  </tbody>\n",
       "</table>\n",
       "</div>"
      ],
      "text/plain": [
       "       Pregnancies     Glucose  BloodPressure  SkinThickness     Insulin  \\\n",
       "count   768.000000  768.000000     768.000000     768.000000  768.000000   \n",
       "mean      3.845052  121.681605      72.254807      26.606479  118.660163   \n",
       "std       3.369578   30.436016      12.115932       9.631241   93.080358   \n",
       "min       0.000000   44.000000      24.000000       7.000000   14.000000   \n",
       "25%       1.000000   99.750000      64.000000      20.536458   79.799479   \n",
       "50%       3.000000  117.000000      72.000000      23.000000   79.799479   \n",
       "75%       6.000000  140.250000      80.000000      32.000000  127.250000   \n",
       "max      17.000000  199.000000     122.000000      99.000000  846.000000   \n",
       "\n",
       "              BMI  DiabetesPedigreeFunction         Age     Outcome  \n",
       "count  768.000000                768.000000  768.000000  768.000000  \n",
       "mean    32.450805                  0.471876   33.240885    0.348958  \n",
       "std      6.875374                  0.331329   11.760232    0.476951  \n",
       "min     18.200000                  0.078000   21.000000    0.000000  \n",
       "25%     27.500000                  0.243750   24.000000    0.000000  \n",
       "50%     32.000000                  0.372500   29.000000    0.000000  \n",
       "75%     36.600000                  0.626250   41.000000    1.000000  \n",
       "max     67.100000                  2.420000   81.000000    1.000000  "
      ]
     },
     "execution_count": 10,
     "metadata": {},
     "output_type": "execute_result"
    }
   ],
   "source": [
    "df.describe()"
   ]
  },
  {
   "cell_type": "markdown",
   "metadata": {},
   "source": [
    "Our dataset looks cleaned and we can head on to explorative data analysis"
   ]
  },
  {
   "cell_type": "markdown",
   "metadata": {},
   "source": [
    "## Explorative Data Analysis\n",
    "This is useful for finding patterns and insights from our dataset that could help us approach problem solving better."
   ]
  },
  {
   "cell_type": "markdown",
   "metadata": {},
   "source": [
    "A pie Chart that shows the proportion of people at risk to those with no risk "
   ]
  },
  {
   "cell_type": "code",
   "execution_count": 11,
   "metadata": {},
   "outputs": [
    {
     "data": {
      "image/png": "[encoded data removed]",
      "text/plain": [
       "<Figure size 432x288 with 1 Axes>"
      ]
     },
     "metadata": {},
     "output_type": "display_data"
    }
   ],
   "source": [
    "populations = [df.loc[df['Outcome']==0].shape[0],df.loc[df['Outcome']==1].shape[0]]\n",
    "labels = ['no risk','at risk']\n",
    "plt.pie(populations, labels=labels,autopct='%1.1f%%',shadow=True,colors=['green','blue'])\n",
    "plt.savefig('Pie Chart.png')"
   ]
  },
  {
   "cell_type": "markdown",
   "metadata": {},
   "source": [
    "Plotting the [PDF]() curves for the features indicating distributions for 'at risk' and 'no risk'"
   ]
  },
  {
   "cell_type": "code",
   "execution_count": 12,
   "metadata": {},
   "outputs": [
    {
     "name": "stderr",
     "output_type": "stream",
     "text": [
      "C:\\Users\\Tobi\\Desktop\\coding\\lib\\site-packages\\seaborn\\distributions.py:288: UserWarning: Data must have variance to compute a kernel density estimate.\n",
      "  warnings.warn(msg, UserWarning)\n",
      "C:\\Users\\Tobi\\Desktop\\coding\\lib\\site-packages\\seaborn\\distributions.py:288: UserWarning: Data must have variance to compute a kernel density estimate.\n",
      "  warnings.warn(msg, UserWarning)\n",
      "C:\\Users\\Tobi\\Desktop\\coding\\lib\\site-packages\\ipykernel_launcher.py:7: MatplotlibDeprecationWarning: Adding an axes using the same arguments as a previous axes currently reuses the earlier instance.  In a future version, a new instance will always be created and returned.  Meanwhile, this warning can be suppressed, and the future behavior ensured, by passing a unique label to each axes instance.\n",
      "  import sys\n"
     ]
    },
    {
     "data": {
      "image/png": "[encoded data removed]",
      "text/plain": [
       "<Figure size 864x864 with 9 Axes>"
      ]
     },
     "metadata": {},
     "output_type": "display_data"
    }
   ],
   "source": [
    "fig, ax = plt.subplots(3,3, figsize=(12,12))\n",
    "for i,col in enumerate(df.columns):\n",
    "    ax = plt.subplot(3,3,i+1)\n",
    "    sns.distplot(df.loc[df['Outcome']==0][col],hist=False,kde_kws={'linestyle':'--','label':'no risk'})\n",
    "    sns.distplot(df.loc[df['Outcome']==1][col],hist=False,kde_kws={'linestyle':'-','label':'at risk'})\n",
    "    \n",
    "plt.subplot(3,3,9).set_visible(False)\n",
    "plt.title('Probability Distribution for the different features')\n",
    "\n",
    "plt.savefig('PDF Image2.png')"
   ]
  },
  {
   "cell_type": "markdown",
   "metadata": {},
   "source": [
    "Plotting the [Box plot]() graph for the features indicating distributions for 'at risk' and 'no risk'"
   ]
  },
  {
   "cell_type": "code",
   "execution_count": 13,
   "metadata": {},
   "outputs": [
    {
     "data": {
      "text/html": [
       "<div>\n",
       "<style scoped>\n",
       "    .dataframe tbody tr th:only-of-type {\n",
       "        vertical-align: middle;\n",
       "    }\n",
       "\n",
       "    .dataframe tbody tr th {\n",
       "        vertical-align: top;\n",
       "    }\n",
       "\n",
       "    .dataframe thead th {\n",
       "        text-align: right;\n",
       "    }\n",
       "</style>\n",
       "<table border=\"1\" class=\"dataframe\">\n",
       "  <thead>\n",
       "    <tr style=\"text-align: right;\">\n",
       "      <th></th>\n",
       "      <th>Pregnancies</th>\n",
       "      <th>Glucose</th>\n",
       "      <th>BloodPressure</th>\n",
       "      <th>SkinThickness</th>\n",
       "      <th>Insulin</th>\n",
       "      <th>BMI</th>\n",
       "      <th>DiabetesPedigreeFunction</th>\n",
       "      <th>Age</th>\n",
       "      <th>Outcome</th>\n",
       "    </tr>\n",
       "  </thead>\n",
       "  <tbody>\n",
       "    <tr>\n",
       "      <th>Pregnancies</th>\n",
       "      <td>1.000000</td>\n",
       "      <td>0.127964</td>\n",
       "      <td>0.208984</td>\n",
       "      <td>0.013376</td>\n",
       "      <td>-0.018082</td>\n",
       "      <td>0.021546</td>\n",
       "      <td>-0.033523</td>\n",
       "      <td>0.544341</td>\n",
       "      <td>0.221898</td>\n",
       "    </tr>\n",
       "    <tr>\n",
       "      <th>Glucose</th>\n",
       "      <td>0.127964</td>\n",
       "      <td>1.000000</td>\n",
       "      <td>0.219666</td>\n",
       "      <td>0.160766</td>\n",
       "      <td>0.396597</td>\n",
       "      <td>0.231478</td>\n",
       "      <td>0.137106</td>\n",
       "      <td>0.266600</td>\n",
       "      <td>0.492908</td>\n",
       "    </tr>\n",
       "    <tr>\n",
       "      <th>BloodPressure</th>\n",
       "      <td>0.208984</td>\n",
       "      <td>0.219666</td>\n",
       "      <td>1.000000</td>\n",
       "      <td>0.134155</td>\n",
       "      <td>0.010926</td>\n",
       "      <td>0.281231</td>\n",
       "      <td>0.000371</td>\n",
       "      <td>0.326740</td>\n",
       "      <td>0.162986</td>\n",
       "    </tr>\n",
       "    <tr>\n",
       "      <th>SkinThickness</th>\n",
       "      <td>0.013376</td>\n",
       "      <td>0.160766</td>\n",
       "      <td>0.134155</td>\n",
       "      <td>1.000000</td>\n",
       "      <td>0.240361</td>\n",
       "      <td>0.535703</td>\n",
       "      <td>0.154961</td>\n",
       "      <td>0.026423</td>\n",
       "      <td>0.175026</td>\n",
       "    </tr>\n",
       "    <tr>\n",
       "      <th>Insulin</th>\n",
       "      <td>-0.018082</td>\n",
       "      <td>0.396597</td>\n",
       "      <td>0.010926</td>\n",
       "      <td>0.240361</td>\n",
       "      <td>1.000000</td>\n",
       "      <td>0.189856</td>\n",
       "      <td>0.157806</td>\n",
       "      <td>0.038652</td>\n",
       "      <td>0.179185</td>\n",
       "    </tr>\n",
       "    <tr>\n",
       "      <th>BMI</th>\n",
       "      <td>0.021546</td>\n",
       "      <td>0.231478</td>\n",
       "      <td>0.281231</td>\n",
       "      <td>0.535703</td>\n",
       "      <td>0.189856</td>\n",
       "      <td>1.000000</td>\n",
       "      <td>0.153508</td>\n",
       "      <td>0.025748</td>\n",
       "      <td>0.312254</td>\n",
       "    </tr>\n",
       "    <tr>\n",
       "      <th>DiabetesPedigreeFunction</th>\n",
       "      <td>-0.033523</td>\n",
       "      <td>0.137106</td>\n",
       "      <td>0.000371</td>\n",
       "      <td>0.154961</td>\n",
       "      <td>0.157806</td>\n",
       "      <td>0.153508</td>\n",
       "      <td>1.000000</td>\n",
       "      <td>0.033561</td>\n",
       "      <td>0.173844</td>\n",
       "    </tr>\n",
       "    <tr>\n",
       "      <th>Age</th>\n",
       "      <td>0.544341</td>\n",
       "      <td>0.266600</td>\n",
       "      <td>0.326740</td>\n",
       "      <td>0.026423</td>\n",
       "      <td>0.038652</td>\n",
       "      <td>0.025748</td>\n",
       "      <td>0.033561</td>\n",
       "      <td>1.000000</td>\n",
       "      <td>0.238356</td>\n",
       "    </tr>\n",
       "    <tr>\n",
       "      <th>Outcome</th>\n",
       "      <td>0.221898</td>\n",
       "      <td>0.492908</td>\n",
       "      <td>0.162986</td>\n",
       "      <td>0.175026</td>\n",
       "      <td>0.179185</td>\n",
       "      <td>0.312254</td>\n",
       "      <td>0.173844</td>\n",
       "      <td>0.238356</td>\n",
       "      <td>1.000000</td>\n",
       "    </tr>\n",
       "  </tbody>\n",
       "</table>\n",
       "</div>"
      ],
      "text/plain": [
       "                          Pregnancies   Glucose  BloodPressure  SkinThickness  \\\n",
       "Pregnancies                  1.000000  0.127964       0.208984       0.013376   \n",
       "Glucose                      0.127964  1.000000       0.219666       0.160766   \n",
       "BloodPressure                0.208984  0.219666       1.000000       0.134155   \n",
       "SkinThickness                0.013376  0.160766       0.134155       1.000000   \n",
       "Insulin                     -0.018082  0.396597       0.010926       0.240361   \n",
       "BMI                          0.021546  0.231478       0.281231       0.535703   \n",
       "DiabetesPedigreeFunction    -0.033523  0.137106       0.000371       0.154961   \n",
       "Age                          0.544341  0.266600       0.326740       0.026423   \n",
       "Outcome                      0.221898  0.492908       0.162986       0.175026   \n",
       "\n",
       "                           Insulin       BMI  DiabetesPedigreeFunction  \\\n",
       "Pregnancies              -0.018082  0.021546                 -0.033523   \n",
       "Glucose                   0.396597  0.231478                  0.137106   \n",
       "BloodPressure             0.010926  0.281231                  0.000371   \n",
       "SkinThickness             0.240361  0.535703                  0.154961   \n",
       "Insulin                   1.000000  0.189856                  0.157806   \n",
       "BMI                       0.189856  1.000000                  0.153508   \n",
       "DiabetesPedigreeFunction  0.157806  0.153508                  1.000000   \n",
       "Age                       0.038652  0.025748                  0.033561   \n",
       "Outcome                   0.179185  0.312254                  0.173844   \n",
       "\n",
       "                               Age   Outcome  \n",
       "Pregnancies               0.544341  0.221898  \n",
       "Glucose                   0.266600  0.492908  \n",
       "BloodPressure             0.326740  0.162986  \n",
       "SkinThickness             0.026423  0.175026  \n",
       "Insulin                   0.038652  0.179185  \n",
       "BMI                       0.025748  0.312254  \n",
       "DiabetesPedigreeFunction  0.033561  0.173844  \n",
       "Age                       1.000000  0.238356  \n",
       "Outcome                   0.238356  1.000000  "
      ]
     },
     "execution_count": 13,
     "metadata": {},
     "output_type": "execute_result"
    }
   ],
   "source": [
    "df.corr()"
   ]
  },
  {
   "cell_type": "code",
   "execution_count": 14,
   "metadata": {},
   "outputs": [
    {
     "data": {
      "image/png": "[encoded data removed]",
      "text/plain": [
       "<Figure size 576x576 with 2 Axes>"
      ]
     },
     "metadata": {},
     "output_type": "display_data"
    }
   ],
   "source": [
    "fig, ax = plt.subplots(figsize=(8,8))\n",
    "ax = fig.gca()\n",
    "sns.heatmap(df.corr(), annot=True, fmt='.2f')\n",
    "plt.savefig('Heatmap1.png')"
   ]
  },
  {
   "cell_type": "code",
   "execution_count": 15,
   "metadata": {},
   "outputs": [
    {
     "name": "stderr",
     "output_type": "stream",
     "text": [
      "C:\\Users\\Tobi\\Desktop\\coding\\lib\\site-packages\\ipykernel_launcher.py:6: MatplotlibDeprecationWarning: Adding an axes using the same arguments as a previous axes currently reuses the earlier instance.  In a future version, a new instance will always be created and returned.  Meanwhile, this warning can be suppressed, and the future behavior ensured, by passing a unique label to each axes instance.\n",
      "  \n"
     ]
    },
    {
     "data": {
      "image/png": "[encoded data removed]",
      "text/plain": [
       "<Figure size 864x864 with 9 Axes>"
      ]
     },
     "metadata": {},
     "output_type": "display_data"
    }
   ],
   "source": [
    "fig, ax = plt.subplots(3,3, figsize=(12,12))\n",
    "for i,col in enumerate(df.columns):\n",
    "    ax = plt.subplot(3,3,i+1)\n",
    "    sns.boxplot(x = 'Outcome', y = col, data = df, palette ='Blues')\n",
    "    \n",
    "plt.subplot(3,3,9).set_visible(False)\n",
    "plt.title('Boxplot Distribution for the different features')\n",
    "plt.savefig('Boxplot.png',format = 'png')"
   ]
  },
  {
   "cell_type": "markdown",
   "metadata": {},
   "source": [
    "### Inferences"
   ]
  },
  {
   "cell_type": "markdown",
   "metadata": {},
   "source": [
    "From the correlation heatmap(see last column), it is observed that Glucose level, BMI, and Age are some of the best predictors of Diabetes"
   ]
  },
  {
   "cell_type": "markdown",
   "metadata": {},
   "source": [
    "Patients with higher glucose levels are at more risk of being diabetic"
   ]
  },
  {
   "cell_type": "markdown",
   "metadata": {},
   "source": [
    "Patients with greater Body Mass Indices are at more risk of being diabetic, this is a strong indicator of obesity as a good predictor of diabetes"
   ]
  },
  {
   "cell_type": "markdown",
   "metadata": {},
   "source": [
    "Older patients are at more risk of being diabetic"
   ]
  },
  {
   "cell_type": "markdown",
   "metadata": {},
   "source": [
    "#### Moving on to building the models"
   ]
  },
  {
   "cell_type": "markdown",
   "metadata": {},
   "source": [
    "## Data Preprocessing\n",
    "\n",
    "Before data preprocessing, i like to store a duplicate of the original dataset in a different dataframe."
   ]
  },
  {
   "cell_type": "code",
   "execution_count": 16,
   "metadata": {},
   "outputs": [
    {
     "data": {
      "text/plain": [
       "Index(['Pregnancies', 'Glucose', 'BloodPressure', 'SkinThickness', 'Insulin',\n",
       "       'BMI', 'DiabetesPedigreeFunction', 'Age'],\n",
       "      dtype='object')"
      ]
     },
     "execution_count": 16,
     "metadata": {},
     "output_type": "execute_result"
    }
   ],
   "source": [
    "df2 = df.copy()\n",
    "X_cols = df2.columns[0:-1]\n",
    "X_cols "
   ]
  },
  {
   "cell_type": "code",
   "execution_count": 17,
   "metadata": {},
   "outputs": [],
   "source": [
    "x = df2[X_cols]\n",
    "Y = df2['Outcome']"
   ]
  },
  {
   "cell_type": "code",
   "execution_count": 18,
   "metadata": {},
   "outputs": [
    {
     "data": {
      "text/plain": [
       "StandardScaler(copy=True, with_mean=True, with_std=True)"
      ]
     },
     "execution_count": 18,
     "metadata": {},
     "output_type": "execute_result"
    }
   ],
   "source": [
    "scaler = StandardScaler()\n",
    "scaler.fit(x)"
   ]
  },
  {
   "cell_type": "code",
   "execution_count": 19,
   "metadata": {},
   "outputs": [],
   "source": [
    "scaled_x = scaler.transform(x)"
   ]
  },
  {
   "cell_type": "code",
   "execution_count": 20,
   "metadata": {},
   "outputs": [
    {
     "data": {
      "text/html": [
       "<div>\n",
       "<style scoped>\n",
       "    .dataframe tbody tr th:only-of-type {\n",
       "        vertical-align: middle;\n",
       "    }\n",
       "\n",
       "    .dataframe tbody tr th {\n",
       "        vertical-align: top;\n",
       "    }\n",
       "\n",
       "    .dataframe thead th {\n",
       "        text-align: right;\n",
       "    }\n",
       "</style>\n",
       "<table border=\"1\" class=\"dataframe\">\n",
       "  <thead>\n",
       "    <tr style=\"text-align: right;\">\n",
       "      <th></th>\n",
       "      <th>Pregnancies</th>\n",
       "      <th>Glucose</th>\n",
       "      <th>BloodPressure</th>\n",
       "      <th>SkinThickness</th>\n",
       "      <th>Insulin</th>\n",
       "      <th>BMI</th>\n",
       "      <th>DiabetesPedigreeFunction</th>\n",
       "      <th>Age</th>\n",
       "    </tr>\n",
       "  </thead>\n",
       "  <tbody>\n",
       "    <tr>\n",
       "      <th>0</th>\n",
       "      <td>0.639947</td>\n",
       "      <td>0.865276</td>\n",
       "      <td>-0.021044</td>\n",
       "      <td>0.872057</td>\n",
       "      <td>-0.417768</td>\n",
       "      <td>0.167255</td>\n",
       "      <td>0.468492</td>\n",
       "      <td>1.425995</td>\n",
       "    </tr>\n",
       "    <tr>\n",
       "      <th>1</th>\n",
       "      <td>-0.844885</td>\n",
       "      <td>-1.205989</td>\n",
       "      <td>-0.516583</td>\n",
       "      <td>0.248678</td>\n",
       "      <td>-0.417768</td>\n",
       "      <td>-0.851535</td>\n",
       "      <td>-0.365061</td>\n",
       "      <td>-0.190672</td>\n",
       "    </tr>\n",
       "    <tr>\n",
       "      <th>2</th>\n",
       "      <td>1.233880</td>\n",
       "      <td>2.015979</td>\n",
       "      <td>-0.681762</td>\n",
       "      <td>-0.630654</td>\n",
       "      <td>-0.417768</td>\n",
       "      <td>-1.331821</td>\n",
       "      <td>0.604397</td>\n",
       "      <td>-0.105584</td>\n",
       "    </tr>\n",
       "    <tr>\n",
       "      <th>3</th>\n",
       "      <td>-0.844885</td>\n",
       "      <td>-1.074480</td>\n",
       "      <td>-0.516583</td>\n",
       "      <td>-0.374700</td>\n",
       "      <td>-0.265107</td>\n",
       "      <td>-0.633222</td>\n",
       "      <td>-0.920763</td>\n",
       "      <td>-1.041549</td>\n",
       "    </tr>\n",
       "    <tr>\n",
       "      <th>4</th>\n",
       "      <td>-1.141852</td>\n",
       "      <td>0.503626</td>\n",
       "      <td>-2.663916</td>\n",
       "      <td>0.872057</td>\n",
       "      <td>0.530423</td>\n",
       "      <td>1.549899</td>\n",
       "      <td>5.484909</td>\n",
       "      <td>-0.020496</td>\n",
       "    </tr>\n",
       "  </tbody>\n",
       "</table>\n",
       "</div>"
      ],
      "text/plain": [
       "   Pregnancies   Glucose  BloodPressure  SkinThickness   Insulin       BMI  \\\n",
       "0     0.639947  0.865276      -0.021044       0.872057 -0.417768  0.167255   \n",
       "1    -0.844885 -1.205989      -0.516583       0.248678 -0.417768 -0.851535   \n",
       "2     1.233880  2.015979      -0.681762      -0.630654 -0.417768 -1.331821   \n",
       "3    -0.844885 -1.074480      -0.516583      -0.374700 -0.265107 -0.633222   \n",
       "4    -1.141852  0.503626      -2.663916       0.872057  0.530423  1.549899   \n",
       "\n",
       "   DiabetesPedigreeFunction       Age  \n",
       "0                  0.468492  1.425995  \n",
       "1                 -0.365061 -0.190672  \n",
       "2                  0.604397 -0.105584  \n",
       "3                 -0.920763 -1.041549  \n",
       "4                  5.484909 -0.020496  "
      ]
     },
     "execution_count": 20,
     "metadata": {},
     "output_type": "execute_result"
    }
   ],
   "source": [
    "x_scaled = pd.DataFrame(scaled_x, columns=X_cols)\n",
    "x_scaled.head()"
   ]
  },
  {
   "cell_type": "markdown",
   "metadata": {},
   "source": [
    "#### Importance of scaling features"
   ]
  },
  {
   "cell_type": "markdown",
   "metadata": {},
   "source": [
    "Machine learning algorithms tend to place more importance on features with higher values, this often reduces the effect of important features like BMI with lower values, scaling helps to standardize the features and reduce them to the same scale with each feature having a mean of 0 and a standard deviation of 1."
   ]
  },
  {
   "cell_type": "markdown",
   "metadata": {},
   "source": [
    "#### Splitting the model into train and test data set"
   ]
  },
  {
   "cell_type": "code",
   "execution_count": 21,
   "metadata": {},
   "outputs": [],
   "source": [
    "train_x,test_x,train_y,test_y = train_test_split(x_scaled,Y,test_size= 0.3, random_state = 42)"
   ]
  },
  {
   "cell_type": "markdown",
   "metadata": {},
   "source": [
    "### Logistic Regression Model\n",
    "\n",
    "Here, i will be using the sklearn library to create a logistic model, although i would normally suggest using the statsmodels library as it gives a very detailed overview of the model's outcome including details such as the constant term(bias), standard error, LL-Null, LLR p-value, Log-likelihood values etc but going into those details and what they represent could take a whole tutorial. "
   ]
  },
  {
   "cell_type": "code",
   "execution_count": 22,
   "metadata": {},
   "outputs": [
    {
     "data": {
      "text/plain": [
       "LogisticRegression(C=1.0, class_weight=None, dual=False, fit_intercept=True,\n",
       "                   intercept_scaling=1, l1_ratio=None, max_iter=100,\n",
       "                   multi_class='auto', n_jobs=None, penalty='l2',\n",
       "                   random_state=42, solver='lbfgs', tol=0.0001, verbose=0,\n",
       "                   warm_start=False)"
      ]
     },
     "execution_count": 22,
     "metadata": {},
     "output_type": "execute_result"
    }
   ],
   "source": [
    "model_1 = LogisticRegression(random_state = 42)\n",
    "model_1.fit(train_x,train_y)"
   ]
  },
  {
   "cell_type": "markdown",
   "metadata": {},
   "source": [
    "#### Predicting and analysing the outcome of the model on the training dataset"
   ]
  },
  {
   "cell_type": "code",
   "execution_count": 23,
   "metadata": {},
   "outputs": [
    {
     "data": {
      "text/html": [
       "<div>\n",
       "<style scoped>\n",
       "    .dataframe tbody tr th:only-of-type {\n",
       "        vertical-align: middle;\n",
       "    }\n",
       "\n",
       "    .dataframe tbody tr th {\n",
       "        vertical-align: top;\n",
       "    }\n",
       "\n",
       "    .dataframe thead th {\n",
       "        text-align: right;\n",
       "    }\n",
       "</style>\n",
       "<table border=\"1\" class=\"dataframe\">\n",
       "  <thead>\n",
       "    <tr style=\"text-align: right;\">\n",
       "      <th></th>\n",
       "      <th>Predicted Prone</th>\n",
       "      <th>Predicted Not Prone</th>\n",
       "    </tr>\n",
       "  </thead>\n",
       "  <tbody>\n",
       "    <tr>\n",
       "      <th>Prone</th>\n",
       "      <td>312</td>\n",
       "      <td>37</td>\n",
       "    </tr>\n",
       "    <tr>\n",
       "      <th>Not Prone</th>\n",
       "      <td>78</td>\n",
       "      <td>110</td>\n",
       "    </tr>\n",
       "  </tbody>\n",
       "</table>\n",
       "</div>"
      ],
      "text/plain": [
       "           Predicted Prone  Predicted Not Prone\n",
       "Prone                  312                   37\n",
       "Not Prone               78                  110"
      ]
     },
     "execution_count": 23,
     "metadata": {},
     "output_type": "execute_result"
    }
   ],
   "source": [
    "confusion_matrix(train_y,model_1.predict(train_x))\n",
    "confusion_table = pd.DataFrame(data =confusion_matrix(train_y,model_1.predict(train_x)), index=['Prone','Not Prone'], columns = ['Predicted Prone','Predicted Not Prone'])\n",
    "confusion_table"
   ]
  },
  {
   "cell_type": "code",
   "execution_count": 24,
   "metadata": {},
   "outputs": [
    {
     "data": {
      "text/plain": [
       "0.7858472998137802"
      ]
     },
     "execution_count": 24,
     "metadata": {},
     "output_type": "execute_result"
    }
   ],
   "source": [
    "model_1.score(train_x,train_y)"
   ]
  },
  {
   "cell_type": "markdown",
   "metadata": {},
   "source": [
    "The model has an accuracy of 78% on the training dataset"
   ]
  },
  {
   "cell_type": "markdown",
   "metadata": {},
   "source": [
    "#### Predicting and analysing the outcome of the model on the test dataset"
   ]
  },
  {
   "cell_type": "code",
   "execution_count": 25,
   "metadata": {},
   "outputs": [],
   "source": [
    "predictions_1 = model_1.predict(test_x)"
   ]
  },
  {
   "cell_type": "code",
   "execution_count": 26,
   "metadata": {},
   "outputs": [
    {
     "data": {
      "text/html": [
       "<div>\n",
       "<style scoped>\n",
       "    .dataframe tbody tr th:only-of-type {\n",
       "        vertical-align: middle;\n",
       "    }\n",
       "\n",
       "    .dataframe tbody tr th {\n",
       "        vertical-align: top;\n",
       "    }\n",
       "\n",
       "    .dataframe thead th {\n",
       "        text-align: right;\n",
       "    }\n",
       "</style>\n",
       "<table border=\"1\" class=\"dataframe\">\n",
       "  <thead>\n",
       "    <tr style=\"text-align: right;\">\n",
       "      <th></th>\n",
       "      <th>Predicted Prone</th>\n",
       "      <th>Predicted Not Prone</th>\n",
       "    </tr>\n",
       "  </thead>\n",
       "  <tbody>\n",
       "    <tr>\n",
       "      <th>Prone</th>\n",
       "      <td>124</td>\n",
       "      <td>27</td>\n",
       "    </tr>\n",
       "    <tr>\n",
       "      <th>Not Prone</th>\n",
       "      <td>33</td>\n",
       "      <td>47</td>\n",
       "    </tr>\n",
       "  </tbody>\n",
       "</table>\n",
       "</div>"
      ],
      "text/plain": [
       "           Predicted Prone  Predicted Not Prone\n",
       "Prone                  124                   27\n",
       "Not Prone               33                   47"
      ]
     },
     "execution_count": 26,
     "metadata": {},
     "output_type": "execute_result"
    }
   ],
   "source": [
    "confusion_matrix_1 =  confusion_matrix(test_y,predictions_1)\n",
    "confusion_table_1 = pd.DataFrame(data = confusion_matrix_1, index=['Prone','Not Prone'], columns = ['Predicted Prone','Predicted Not Prone'])\n",
    "confusion_table_1"
   ]
  },
  {
   "cell_type": "code",
   "execution_count": 27,
   "metadata": {},
   "outputs": [
    {
     "data": {
      "text/plain": [
       "74.02597402597402"
      ]
     },
     "execution_count": 27,
     "metadata": {},
     "output_type": "execute_result"
    }
   ],
   "source": [
    "array = np.array(confusion_matrix_1)\n",
    "accuracy = ((array[0,0]+array[1,1])/array.sum())*100\n",
    "accuracy"
   ]
  },
  {
   "cell_type": "markdown",
   "metadata": {},
   "source": [
    "We could make use of an AUCROC curve to evaluate the perfomance of this model and also see what a good threshold is for determining if a patient should be classified as being prone to having diabetes."
   ]
  },
  {
   "cell_type": "code",
   "execution_count": 28,
   "metadata": {},
   "outputs": [],
   "source": [
    "y_probs_1 = model_1.predict_proba(test_x)\n",
    "y_score_1 = y_probs_1[:,1]"
   ]
  },
  {
   "cell_type": "code",
   "execution_count": 29,
   "metadata": {},
   "outputs": [],
   "source": [
    "FPR_1,TPR_1,Thresholds_1 = roc_curve(test_y,y_score_1)"
   ]
  },
  {
   "cell_type": "code",
   "execution_count": 30,
   "metadata": {},
   "outputs": [
    {
     "data": {
      "text/plain": [
       "Text(0, 0.5, 'TPR')"
      ]
     },
     "execution_count": 30,
     "metadata": {},
     "output_type": "execute_result"
    },
    {
     "data": {
      "image/png": "[encoded data removed]",
      "text/plain": [
       "<Figure size 432x288 with 1 Axes>"
      ]
     },
     "metadata": {},
     "output_type": "display_data"
    }
   ],
   "source": [
    "plt.plot(FPR_1,TPR_1)\n",
    "plt.plot([0,1],[0,1],'--',color = 'black')\n",
    "plt.xlabel('FPR')\n",
    "plt.ylabel('TPR')"
   ]
  },
  {
   "cell_type": "code",
   "execution_count": 31,
   "metadata": {},
   "outputs": [
    {
     "data": {
      "text/plain": [
       "0.7975165562913907"
      ]
     },
     "execution_count": 31,
     "metadata": {},
     "output_type": "execute_result"
    }
   ],
   "source": [
    "roc_auc_score(test_y,y_score_1)"
   ]
  },
  {
   "cell_type": "markdown",
   "metadata": {},
   "source": [
    "The area under the curve is 0.8"
   ]
  },
  {
   "cell_type": "markdown",
   "metadata": {},
   "source": [
    "### Random Forest Classifier\n",
    "\n",
    "Here, i will be using the sklearn library to create a random forest classifier"
   ]
  },
  {
   "cell_type": "code",
   "execution_count": 32,
   "metadata": {},
   "outputs": [
    {
     "data": {
      "text/plain": [
       "RandomForestClassifier(bootstrap=True, ccp_alpha=0.0, class_weight=None,\n",
       "                       criterion='gini', max_depth=None, max_features='auto',\n",
       "                       max_leaf_nodes=None, max_samples=None,\n",
       "                       min_impurity_decrease=0.0, min_impurity_split=None,\n",
       "                       min_samples_leaf=1, min_samples_split=2,\n",
       "                       min_weight_fraction_leaf=0.0, n_estimators=100,\n",
       "                       n_jobs=None, oob_score=False, random_state=None,\n",
       "                       verbose=0, warm_start=False)"
      ]
     },
     "execution_count": 32,
     "metadata": {},
     "output_type": "execute_result"
    }
   ],
   "source": [
    "model_2 = RandomForestClassifier()\n",
    "model_2.fit(train_x,train_y)"
   ]
  },
  {
   "cell_type": "markdown",
   "metadata": {},
   "source": [
    "#### Predicting and analysing the outcome of the model on the training dataset"
   ]
  },
  {
   "cell_type": "code",
   "execution_count": 33,
   "metadata": {},
   "outputs": [
    {
     "data": {
      "text/html": [
       "<div>\n",
       "<style scoped>\n",
       "    .dataframe tbody tr th:only-of-type {\n",
       "        vertical-align: middle;\n",
       "    }\n",
       "\n",
       "    .dataframe tbody tr th {\n",
       "        vertical-align: top;\n",
       "    }\n",
       "\n",
       "    .dataframe thead th {\n",
       "        text-align: right;\n",
       "    }\n",
       "</style>\n",
       "<table border=\"1\" class=\"dataframe\">\n",
       "  <thead>\n",
       "    <tr style=\"text-align: right;\">\n",
       "      <th></th>\n",
       "      <th>Predicted Prone</th>\n",
       "      <th>Predicted Not Prone</th>\n",
       "    </tr>\n",
       "  </thead>\n",
       "  <tbody>\n",
       "    <tr>\n",
       "      <th>Prone</th>\n",
       "      <td>349</td>\n",
       "      <td>0</td>\n",
       "    </tr>\n",
       "    <tr>\n",
       "      <th>Not Prone</th>\n",
       "      <td>0</td>\n",
       "      <td>188</td>\n",
       "    </tr>\n",
       "  </tbody>\n",
       "</table>\n",
       "</div>"
      ],
      "text/plain": [
       "           Predicted Prone  Predicted Not Prone\n",
       "Prone                  349                    0\n",
       "Not Prone                0                  188"
      ]
     },
     "execution_count": 33,
     "metadata": {},
     "output_type": "execute_result"
    }
   ],
   "source": [
    "confusion_table_2_train = pd.DataFrame(data = confusion_matrix(train_y,model_2.predict(train_x)), index=['Prone','Not Prone'], columns = ['Predicted Prone','Predicted Not Prone'])\n",
    "confusion_table_2_train"
   ]
  },
  {
   "cell_type": "code",
   "execution_count": 34,
   "metadata": {},
   "outputs": [
    {
     "data": {
      "text/plain": [
       "1.0"
      ]
     },
     "execution_count": 34,
     "metadata": {},
     "output_type": "execute_result"
    }
   ],
   "source": [
    "model_2.score(train_x,train_y)"
   ]
  },
  {
   "cell_type": "markdown",
   "metadata": {},
   "source": [
    "The random forest classifier model accurately fits the training dataset"
   ]
  },
  {
   "cell_type": "markdown",
   "metadata": {},
   "source": [
    "#### Predicting and analysing the outcome of the model on the test dataset"
   ]
  },
  {
   "cell_type": "code",
   "execution_count": 35,
   "metadata": {},
   "outputs": [],
   "source": [
    "predictions_2 = model_2.predict(test_x)"
   ]
  },
  {
   "cell_type": "code",
   "execution_count": 36,
   "metadata": {},
   "outputs": [
    {
     "data": {
      "text/html": [
       "<div>\n",
       "<style scoped>\n",
       "    .dataframe tbody tr th:only-of-type {\n",
       "        vertical-align: middle;\n",
       "    }\n",
       "\n",
       "    .dataframe tbody tr th {\n",
       "        vertical-align: top;\n",
       "    }\n",
       "\n",
       "    .dataframe thead th {\n",
       "        text-align: right;\n",
       "    }\n",
       "</style>\n",
       "<table border=\"1\" class=\"dataframe\">\n",
       "  <thead>\n",
       "    <tr style=\"text-align: right;\">\n",
       "      <th></th>\n",
       "      <th>Predicted Prone</th>\n",
       "      <th>Predicted Not Prone</th>\n",
       "    </tr>\n",
       "  </thead>\n",
       "  <tbody>\n",
       "    <tr>\n",
       "      <th>Prone</th>\n",
       "      <td>121</td>\n",
       "      <td>30</td>\n",
       "    </tr>\n",
       "    <tr>\n",
       "      <th>Not Prone</th>\n",
       "      <td>27</td>\n",
       "      <td>53</td>\n",
       "    </tr>\n",
       "  </tbody>\n",
       "</table>\n",
       "</div>"
      ],
      "text/plain": [
       "           Predicted Prone  Predicted Not Prone\n",
       "Prone                  121                   30\n",
       "Not Prone               27                   53"
      ]
     },
     "execution_count": 36,
     "metadata": {},
     "output_type": "execute_result"
    }
   ],
   "source": [
    "confusion_matrix_2 =  confusion_matrix(test_y,predictions_2)\n",
    "confusion_table_2 = pd.DataFrame(data = confusion_matrix_2, index=['Prone','Not Prone'], columns = ['Predicted Prone','Predicted Not Prone'])\n",
    "confusion_table_2"
   ]
  },
  {
   "cell_type": "code",
   "execution_count": 37,
   "metadata": {},
   "outputs": [
    {
     "data": {
      "text/plain": [
       "75.32467532467533"
      ]
     },
     "execution_count": 37,
     "metadata": {},
     "output_type": "execute_result"
    }
   ],
   "source": [
    "array_2 = np.array(confusion_matrix_2)\n",
    "accuracy_2 = ((array_2[0,0]+array_2[1,1])/array.sum())*100\n",
    "accuracy_2"
   ]
  },
  {
   "cell_type": "code",
   "execution_count": 38,
   "metadata": {},
   "outputs": [],
   "source": [
    "y_probs_2 = model_2.predict_proba(test_x)\n",
    "y_score_2 = y_probs_2[:,1]"
   ]
  },
  {
   "cell_type": "code",
   "execution_count": 39,
   "metadata": {},
   "outputs": [],
   "source": [
    "FPR_2,TPR_2,Thresholds_2 = roc_curve(test_y,y_score_2)"
   ]
  },
  {
   "cell_type": "code",
   "execution_count": 40,
   "metadata": {},
   "outputs": [
    {
     "data": {
      "text/plain": [
       "Text(0, 0.5, 'TPR')"
      ]
     },
     "execution_count": 40,
     "metadata": {},
     "output_type": "execute_result"
    },
    {
     "data": {
      "image/png": "[encoded data removed]",
      "text/plain": [
       "<Figure size 432x288 with 1 Axes>"
      ]
     },
     "metadata": {},
     "output_type": "display_data"
    }
   ],
   "source": [
    "plt.plot(FPR_2,TPR_2)\n",
    "plt.plot([0,1],[0,1],'--',color = 'black')\n",
    "plt.xlabel('FPR')\n",
    "plt.ylabel('TPR')"
   ]
  },
  {
   "cell_type": "code",
   "execution_count": 41,
   "metadata": {},
   "outputs": [
    {
     "data": {
      "text/plain": [
       "0.817591059602649"
      ]
     },
     "execution_count": 41,
     "metadata": {},
     "output_type": "execute_result"
    }
   ],
   "source": [
    "roc_auc_score(test_y,y_score_2)"
   ]
  },
  {
   "cell_type": "markdown",
   "metadata": {},
   "source": [
    "The area under the curve is 0.82, the Random Forest Classifier is only slightly better than the Logistic Regression model"
   ]
  },
  {
   "cell_type": "markdown",
   "metadata": {},
   "source": [
    "### Deep Neural Networks using keras library"
   ]
  },
  {
   "cell_type": "code",
   "execution_count": 42,
   "metadata": {},
   "outputs": [
    {
     "name": "stderr",
     "output_type": "stream",
     "text": [
      "Using TensorFlow backend.\n",
      "C:\\Users\\Tobi\\Desktop\\coding\\lib\\site-packages\\tensorflow\\python\\framework\\dtypes.py:516: FutureWarning: Passing (type, 1) or '1type' as a synonym of type is deprecated; in a future version of numpy, it will be understood as (type, (1,)) / '(1,)type'.\n",
      "  _np_qint8 = np.dtype([(\"qint8\", np.int8, 1)])\n",
      "C:\\Users\\Tobi\\Desktop\\coding\\lib\\site-packages\\tensorflow\\python\\framework\\dtypes.py:517: FutureWarning: Passing (type, 1) or '1type' as a synonym of type is deprecated; in a future version of numpy, it will be understood as (type, (1,)) / '(1,)type'.\n",
      "  _np_quint8 = np.dtype([(\"quint8\", np.uint8, 1)])\n",
      "C:\\Users\\Tobi\\Desktop\\coding\\lib\\site-packages\\tensorflow\\python\\framework\\dtypes.py:518: FutureWarning: Passing (type, 1) or '1type' as a synonym of type is deprecated; in a future version of numpy, it will be understood as (type, (1,)) / '(1,)type'.\n",
      "  _np_qint16 = np.dtype([(\"qint16\", np.int16, 1)])\n",
      "C:\\Users\\Tobi\\Desktop\\coding\\lib\\site-packages\\tensorflow\\python\\framework\\dtypes.py:519: FutureWarning: Passing (type, 1) or '1type' as a synonym of type is deprecated; in a future version of numpy, it will be understood as (type, (1,)) / '(1,)type'.\n",
      "  _np_quint16 = np.dtype([(\"quint16\", np.uint16, 1)])\n",
      "C:\\Users\\Tobi\\Desktop\\coding\\lib\\site-packages\\tensorflow\\python\\framework\\dtypes.py:520: FutureWarning: Passing (type, 1) or '1type' as a synonym of type is deprecated; in a future version of numpy, it will be understood as (type, (1,)) / '(1,)type'.\n",
      "  _np_qint32 = np.dtype([(\"qint32\", np.int32, 1)])\n",
      "C:\\Users\\Tobi\\Desktop\\coding\\lib\\site-packages\\tensorflow\\python\\framework\\dtypes.py:525: FutureWarning: Passing (type, 1) or '1type' as a synonym of type is deprecated; in a future version of numpy, it will be understood as (type, (1,)) / '(1,)type'.\n",
      "  np_resource = np.dtype([(\"resource\", np.ubyte, 1)])\n",
      "C:\\Users\\Tobi\\Desktop\\coding\\lib\\site-packages\\tensorboard\\compat\\tensorflow_stub\\dtypes.py:541: FutureWarning: Passing (type, 1) or '1type' as a synonym of type is deprecated; in a future version of numpy, it will be understood as (type, (1,)) / '(1,)type'.\n",
      "  _np_qint8 = np.dtype([(\"qint8\", np.int8, 1)])\n",
      "C:\\Users\\Tobi\\Desktop\\coding\\lib\\site-packages\\tensorboard\\compat\\tensorflow_stub\\dtypes.py:542: FutureWarning: Passing (type, 1) or '1type' as a synonym of type is deprecated; in a future version of numpy, it will be understood as (type, (1,)) / '(1,)type'.\n",
      "  _np_quint8 = np.dtype([(\"quint8\", np.uint8, 1)])\n",
      "C:\\Users\\Tobi\\Desktop\\coding\\lib\\site-packages\\tensorboard\\compat\\tensorflow_stub\\dtypes.py:543: FutureWarning: Passing (type, 1) or '1type' as a synonym of type is deprecated; in a future version of numpy, it will be understood as (type, (1,)) / '(1,)type'.\n",
      "  _np_qint16 = np.dtype([(\"qint16\", np.int16, 1)])\n",
      "C:\\Users\\Tobi\\Desktop\\coding\\lib\\site-packages\\tensorboard\\compat\\tensorflow_stub\\dtypes.py:544: FutureWarning: Passing (type, 1) or '1type' as a synonym of type is deprecated; in a future version of numpy, it will be understood as (type, (1,)) / '(1,)type'.\n",
      "  _np_quint16 = np.dtype([(\"quint16\", np.uint16, 1)])\n",
      "C:\\Users\\Tobi\\Desktop\\coding\\lib\\site-packages\\tensorboard\\compat\\tensorflow_stub\\dtypes.py:545: FutureWarning: Passing (type, 1) or '1type' as a synonym of type is deprecated; in a future version of numpy, it will be understood as (type, (1,)) / '(1,)type'.\n",
      "  _np_qint32 = np.dtype([(\"qint32\", np.int32, 1)])\n",
      "C:\\Users\\Tobi\\Desktop\\coding\\lib\\site-packages\\tensorboard\\compat\\tensorflow_stub\\dtypes.py:550: FutureWarning: Passing (type, 1) or '1type' as a synonym of type is deprecated; in a future version of numpy, it will be understood as (type, (1,)) / '(1,)type'.\n",
      "  np_resource = np.dtype([(\"resource\", np.ubyte, 1)])\n"
     ]
    }
   ],
   "source": [
    "from keras.models import Sequential"
   ]
  },
  {
   "cell_type": "code",
   "execution_count": 43,
   "metadata": {},
   "outputs": [
    {
     "name": "stdout",
     "output_type": "stream",
     "text": [
      "Model: \"sequential_1\"\n",
      "_________________________________________________________________\n",
      "Layer (type)                 Output Shape              Param #   \n",
      "=================================================================\n",
      "dense_1 (Dense)              (None, 16)                144       \n",
      "_________________________________________________________________\n",
      "dense_2 (Dense)              (None, 16)                272       \n",
      "_________________________________________________________________\n",
      "dense_3 (Dense)              (None, 1)                 17        \n",
      "=================================================================\n",
      "Total params: 433\n",
      "Trainable params: 433\n",
      "Non-trainable params: 0\n",
      "_________________________________________________________________\n"
     ]
    }
   ],
   "source": [
    "model_3 = Sequential()\n",
    "from keras.layers import Dense\n",
    "model_3.add(Dense(16, activation='relu', input_dim=8))\n",
    "model_3.add(Dense(16, activation='relu'))\n",
    "model_3.add(Dense(1, activation='sigmoid'))\n",
    "model_3.summary()"
   ]
  },
  {
   "cell_type": "code",
   "execution_count": 44,
   "metadata": {},
   "outputs": [
    {
     "name": "stdout",
     "output_type": "stream",
     "text": [
      "WARNING:tensorflow:From C:\\Users\\Tobi\\Desktop\\coding\\lib\\site-packages\\tensorflow\\python\\ops\\nn_impl.py:180: add_dispatch_support.<locals>.wrapper (from tensorflow.python.ops.array_ops) is deprecated and will be removed in a future version.\n",
      "Instructions for updating:\n",
      "Use tf.where in 2.0, which has the same broadcast rule as np.where\n"
     ]
    }
   ],
   "source": [
    "model_3.compile(optimizer= 'adam', loss = 'binary_crossentropy', metrics = ['accuracy'])"
   ]
  },
  {
   "cell_type": "code",
   "execution_count": 45,
   "metadata": {},
   "outputs": [
    {
     "name": "stdout",
     "output_type": "stream",
     "text": [
      "WARNING:tensorflow:From C:\\Users\\Tobi\\Desktop\\coding\\lib\\site-packages\\keras\\backend\\tensorflow_backend.py:422: The name tf.global_variables is deprecated. Please use tf.compat.v1.global_variables instead.\n",
      "\n",
      "Epoch 1/200\n",
      "537/537 [==============================] - 1s 1ms/step - loss: 0.6812 - accuracy: 0.5363\n",
      "Epoch 2/200\n",
      "537/537 [==============================] - 0s 164us/step - loss: 0.6331 - accuracy: 0.6201\n",
      "Epoch 3/200\n",
      "537/537 [==============================] - 0s 214us/step - loss: 0.5971 - accuracy: 0.6685\n",
      "Epoch 4/200\n",
      "537/537 [==============================] - 0s 223us/step - loss: 0.5674 - accuracy: 0.7020\n",
      "Epoch 5/200\n",
      "537/537 [==============================] - 0s 268us/step - loss: 0.5429 - accuracy: 0.7244\n",
      "Epoch 6/200\n",
      "537/537 [==============================] - 0s 210us/step - loss: 0.5221 - accuracy: 0.7412\n",
      "Epoch 7/200\n",
      "537/537 [==============================] - 0s 149us/step - loss: 0.5041 - accuracy: 0.7561\n",
      "Epoch 8/200\n",
      "537/537 [==============================] - 0s 198us/step - loss: 0.4897 - accuracy: 0.7672\n",
      "Epoch 9/200\n",
      "537/537 [==============================] - 0s 164us/step - loss: 0.4765 - accuracy: 0.7672\n",
      "Epoch 10/200\n",
      "537/537 [==============================] - ETA: 0s - loss: 0.4946 - accuracy: 0.74 - 0s 179us/step - loss: 0.4655 - accuracy: 0.7747\n",
      "Epoch 11/200\n",
      "537/537 [==============================] - 0s 164us/step - loss: 0.4544 - accuracy: 0.7821\n",
      "Epoch 12/200\n",
      "537/537 [==============================] - 0s 194us/step - loss: 0.4461 - accuracy: 0.7840\n",
      "Epoch 13/200\n",
      "537/537 [==============================] - 0s 238us/step - loss: 0.4382 - accuracy: 0.79140s - loss: 0.4306 - accuracy: 0.79\n",
      "Epoch 14/200\n",
      "537/537 [==============================] - 0s 283us/step - loss: 0.4313 - accuracy: 0.7933\n",
      "Epoch 15/200\n",
      "537/537 [==============================] - 0s 149us/step - loss: 0.4254 - accuracy: 0.7933\n",
      "Epoch 16/200\n",
      "537/537 [==============================] - 0s 179us/step - loss: 0.4210 - accuracy: 0.8026\n",
      "Epoch 17/200\n",
      "537/537 [==============================] - 0s 194us/step - loss: 0.4182 - accuracy: 0.7952\n",
      "Epoch 18/200\n",
      "537/537 [==============================] - 0s 179us/step - loss: 0.4140 - accuracy: 0.7989\n",
      "Epoch 19/200\n",
      "537/537 [==============================] - 0s 209us/step - loss: 0.4118 - accuracy: 0.8063\n",
      "Epoch 20/200\n",
      "537/537 [==============================] - 0s 194us/step - loss: 0.4095 - accuracy: 0.8007\n",
      "Epoch 21/200\n",
      "537/537 [==============================] - 0s 347us/step - loss: 0.4071 - accuracy: 0.7970\n",
      "Epoch 22/200\n",
      "537/537 [==============================] - 0s 213us/step - loss: 0.4063 - accuracy: 0.8026\n",
      "Epoch 23/200\n",
      "537/537 [==============================] - 0s 318us/step - loss: 0.4031 - accuracy: 0.8045\n",
      "Epoch 24/200\n",
      "537/537 [==============================] - 0s 228us/step - loss: 0.4022 - accuracy: 0.8119\n",
      "Epoch 25/200\n",
      "537/537 [==============================] - 0s 228us/step - loss: 0.4008 - accuracy: 0.8119\n",
      "Epoch 26/200\n",
      "537/537 [==============================] - 0s 243us/step - loss: 0.3998 - accuracy: 0.8119\n",
      "Epoch 27/200\n",
      "537/537 [==============================] - 0s 194us/step - loss: 0.3980 - accuracy: 0.8101\n",
      "Epoch 28/200\n",
      "537/537 [==============================] - 0s 164us/step - loss: 0.3971 - accuracy: 0.8119\n",
      "Epoch 29/200\n",
      "537/537 [==============================] - 0s 164us/step - loss: 0.3958 - accuracy: 0.8101\n",
      "Epoch 30/200\n",
      "537/537 [==============================] - 0s 179us/step - loss: 0.3949 - accuracy: 0.8119\n",
      "Epoch 31/200\n",
      "537/537 [==============================] - 0s 164us/step - loss: 0.3938 - accuracy: 0.8156\n",
      "Epoch 32/200\n",
      "537/537 [==============================] - 0s 209us/step - loss: 0.3928 - accuracy: 0.8119\n",
      "Epoch 33/200\n",
      "537/537 [==============================] - 0s 149us/step - loss: 0.3916 - accuracy: 0.8138\n",
      "Epoch 34/200\n",
      "537/537 [==============================] - 0s 194us/step - loss: 0.3912 - accuracy: 0.8194\n",
      "Epoch 35/200\n",
      "537/537 [==============================] - 0s 243us/step - loss: 0.3905 - accuracy: 0.8175\n",
      "Epoch 36/200\n",
      "537/537 [==============================] - 0s 198us/step - loss: 0.3891 - accuracy: 0.8138\n",
      "Epoch 37/200\n",
      "537/537 [==============================] - 0s 194us/step - loss: 0.3880 - accuracy: 0.8175\n",
      "Epoch 38/200\n",
      "537/537 [==============================] - 0s 184us/step - loss: 0.3878 - accuracy: 0.8175\n",
      "Epoch 39/200\n",
      "537/537 [==============================] - 0s 179us/step - loss: 0.3869 - accuracy: 0.8194\n",
      "Epoch 40/200\n",
      "537/537 [==============================] - 0s 169us/step - loss: 0.3863 - accuracy: 0.8175\n",
      "Epoch 41/200\n",
      "537/537 [==============================] - 0s 358us/step - loss: 0.3853 - accuracy: 0.8212\n",
      "Epoch 42/200\n",
      "537/537 [==============================] - 0s 134us/step - loss: 0.3855 - accuracy: 0.8138\n",
      "Epoch 43/200\n",
      "537/537 [==============================] - 0s 214us/step - loss: 0.3840 - accuracy: 0.8175\n",
      "Epoch 44/200\n",
      "537/537 [==============================] - 0s 164us/step - loss: 0.3830 - accuracy: 0.8194\n",
      "Epoch 45/200\n",
      "537/537 [==============================] - 0s 447us/step - loss: 0.3826 - accuracy: 0.8175\n",
      "Epoch 46/200\n",
      "537/537 [==============================] - 0s 149us/step - loss: 0.3834 - accuracy: 0.8194\n",
      "Epoch 47/200\n",
      "537/537 [==============================] - 0s 179us/step - loss: 0.3813 - accuracy: 0.8194\n",
      "Epoch 48/200\n",
      "537/537 [==============================] - 0s 179us/step - loss: 0.3804 - accuracy: 0.8194\n",
      "Epoch 49/200\n",
      "537/537 [==============================] - 0s 179us/step - loss: 0.3799 - accuracy: 0.8287\n",
      "Epoch 50/200\n",
      "537/537 [==============================] - 0s 179us/step - loss: 0.3783 - accuracy: 0.8194\n",
      "Epoch 51/200\n",
      "537/537 [==============================] - 0s 149us/step - loss: 0.3782 - accuracy: 0.8212\n",
      "Epoch 52/200\n",
      "537/537 [==============================] - 0s 179us/step - loss: 0.3770 - accuracy: 0.8156\n",
      "Epoch 53/200\n",
      "537/537 [==============================] - 0s 149us/step - loss: 0.3764 - accuracy: 0.8194\n",
      "Epoch 54/200\n",
      "537/537 [==============================] - 0s 149us/step - loss: 0.3756 - accuracy: 0.8156\n",
      "Epoch 55/200\n",
      "537/537 [==============================] - 0s 164us/step - loss: 0.3749 - accuracy: 0.8194\n",
      "Epoch 56/200\n",
      "537/537 [==============================] - 0s 298us/step - loss: 0.3741 - accuracy: 0.8194\n",
      "Epoch 57/200\n",
      "537/537 [==============================] - 0s 154us/step - loss: 0.3741 - accuracy: 0.8194\n",
      "Epoch 58/200\n",
      "537/537 [==============================] - 0s 149us/step - loss: 0.3731 - accuracy: 0.8250\n",
      "Epoch 59/200\n",
      "537/537 [==============================] - 0s 209us/step - loss: 0.3722 - accuracy: 0.8194\n",
      "Epoch 60/200\n",
      "537/537 [==============================] - 0s 149us/step - loss: 0.3712 - accuracy: 0.8212\n",
      "Epoch 61/200\n",
      "537/537 [==============================] - 0s 154us/step - loss: 0.3713 - accuracy: 0.8212\n",
      "Epoch 62/200\n",
      "537/537 [==============================] - 0s 194us/step - loss: 0.3701 - accuracy: 0.8175\n",
      "Epoch 63/200\n",
      "537/537 [==============================] - 0s 169us/step - loss: 0.3707 - accuracy: 0.8231\n",
      "Epoch 64/200\n",
      "537/537 [==============================] - 0s 209us/step - loss: 0.3695 - accuracy: 0.8231\n",
      "Epoch 65/200\n",
      "537/537 [==============================] - 0s 149us/step - loss: 0.3684 - accuracy: 0.8268\n",
      "Epoch 66/200\n",
      "537/537 [==============================] - 0s 134us/step - loss: 0.3680 - accuracy: 0.8212\n",
      "Epoch 67/200\n",
      "537/537 [==============================] - 0s 164us/step - loss: 0.3675 - accuracy: 0.8231\n",
      "Epoch 68/200\n",
      "537/537 [==============================] - 0s 298us/step - loss: 0.3669 - accuracy: 0.8268\n",
      "Epoch 69/200\n",
      "537/537 [==============================] - 0s 164us/step - loss: 0.3668 - accuracy: 0.8250\n",
      "Epoch 70/200\n",
      "537/537 [==============================] - 0s 164us/step - loss: 0.3660 - accuracy: 0.8268\n",
      "Epoch 71/200\n",
      "537/537 [==============================] - 0s 209us/step - loss: 0.3660 - accuracy: 0.8231\n",
      "Epoch 72/200\n",
      "537/537 [==============================] - 0s 358us/step - loss: 0.3656 - accuracy: 0.8287\n",
      "Epoch 73/200\n",
      "537/537 [==============================] - 0s 238us/step - loss: 0.3646 - accuracy: 0.8231\n",
      "Epoch 74/200\n",
      "537/537 [==============================] - 0s 402us/step - loss: 0.3644 - accuracy: 0.8287\n",
      "Epoch 75/200\n",
      "537/537 [==============================] - 0s 238us/step - loss: 0.3638 - accuracy: 0.8268\n",
      "Epoch 76/200\n",
      "537/537 [==============================] - 0s 358us/step - loss: 0.3630 - accuracy: 0.8231\n",
      "Epoch 77/200\n",
      "537/537 [==============================] - 0s 198us/step - loss: 0.3626 - accuracy: 0.8268\n",
      "Epoch 78/200\n",
      "537/537 [==============================] - 0s 238us/step - loss: 0.3620 - accuracy: 0.8343\n",
      "Epoch 79/200\n",
      "537/537 [==============================] - 0s 298us/step - loss: 0.3615 - accuracy: 0.8324\n",
      "Epoch 80/200\n",
      "537/537 [==============================] - 0s 223us/step - loss: 0.3607 - accuracy: 0.8324\n",
      "Epoch 81/200\n",
      "537/537 [==============================] - 0s 169us/step - loss: 0.3606 - accuracy: 0.8287\n",
      "Epoch 82/200\n",
      "537/537 [==============================] - 0s 194us/step - loss: 0.3602 - accuracy: 0.8268\n",
      "Epoch 83/200\n",
      "537/537 [==============================] - 0s 209us/step - loss: 0.3589 - accuracy: 0.8305\n",
      "Epoch 84/200\n",
      "537/537 [==============================] - 0s 322us/step - loss: 0.3595 - accuracy: 0.8324\n",
      "Epoch 85/200\n",
      "537/537 [==============================] - 0s 328us/step - loss: 0.3578 - accuracy: 0.8324\n",
      "Epoch 86/200\n",
      "537/537 [==============================] - 0s 164us/step - loss: 0.3573 - accuracy: 0.8305\n",
      "Epoch 87/200\n",
      "537/537 [==============================] - 0s 228us/step - loss: 0.3574 - accuracy: 0.8343\n",
      "Epoch 88/200\n",
      "537/537 [==============================] - 0s 223us/step - loss: 0.3566 - accuracy: 0.8287\n",
      "Epoch 89/200\n",
      "537/537 [==============================] - 0s 223us/step - loss: 0.3566 - accuracy: 0.8305\n",
      "Epoch 90/200\n",
      "537/537 [==============================] - 0s 179us/step - loss: 0.3557 - accuracy: 0.8250\n",
      "Epoch 91/200\n",
      "537/537 [==============================] - 0s 298us/step - loss: 0.3544 - accuracy: 0.8268\n",
      "Epoch 92/200\n",
      "537/537 [==============================] - 0s 194us/step - loss: 0.3539 - accuracy: 0.83240s - loss: 0.3579 - accuracy: 0.82\n",
      "Epoch 93/200\n",
      "537/537 [==============================] - 0s 412us/step - loss: 0.3538 - accuracy: 0.8361\n",
      "Epoch 94/200\n",
      "537/537 [==============================] - 0s 194us/step - loss: 0.3533 - accuracy: 0.8380\n",
      "Epoch 95/200\n",
      "537/537 [==============================] - 0s 288us/step - loss: 0.3532 - accuracy: 0.8324\n",
      "Epoch 96/200\n",
      "537/537 [==============================] - 0s 223us/step - loss: 0.3526 - accuracy: 0.8361\n",
      "Epoch 97/200\n",
      "537/537 [==============================] - 0s 288us/step - loss: 0.3518 - accuracy: 0.8361\n",
      "Epoch 98/200\n",
      "537/537 [==============================] - 0s 179us/step - loss: 0.3515 - accuracy: 0.8380\n",
      "Epoch 99/200\n",
      "537/537 [==============================] - 0s 213us/step - loss: 0.3510 - accuracy: 0.8361\n",
      "Epoch 100/200\n",
      "537/537 [==============================] - 0s 198us/step - loss: 0.3510 - accuracy: 0.8417\n",
      "Epoch 101/200\n",
      "537/537 [==============================] - 0s 228us/step - loss: 0.3504 - accuracy: 0.8399\n",
      "Epoch 102/200\n",
      "537/537 [==============================] - 0s 288us/step - loss: 0.3496 - accuracy: 0.8380\n",
      "Epoch 103/200\n",
      "537/537 [==============================] - 0s 268us/step - loss: 0.3487 - accuracy: 0.8417\n",
      "Epoch 104/200\n",
      "537/537 [==============================] - 0s 313us/step - loss: 0.3500 - accuracy: 0.8417\n",
      "Epoch 105/200\n",
      "537/537 [==============================] - 0s 243us/step - loss: 0.3481 - accuracy: 0.8436\n",
      "Epoch 106/200\n",
      "537/537 [==============================] - 0s 209us/step - loss: 0.3480 - accuracy: 0.8399\n",
      "Epoch 107/200\n",
      "537/537 [==============================] - 0s 238us/step - loss: 0.3469 - accuracy: 0.8417\n",
      "Epoch 108/200\n",
      "537/537 [==============================] - 0s 313us/step - loss: 0.3463 - accuracy: 0.8454\n",
      "Epoch 109/200\n",
      "537/537 [==============================] - 0s 303us/step - loss: 0.3464 - accuracy: 0.8417\n",
      "Epoch 110/200\n",
      "537/537 [==============================] - 0s 298us/step - loss: 0.3459 - accuracy: 0.8436\n",
      "Epoch 111/200\n",
      "537/537 [==============================] - 0s 238us/step - loss: 0.3450 - accuracy: 0.8436\n",
      "Epoch 112/200\n",
      "537/537 [==============================] - 0s 149us/step - loss: 0.3453 - accuracy: 0.8436\n",
      "Epoch 113/200\n",
      "537/537 [==============================] - 0s 179us/step - loss: 0.3446 - accuracy: 0.8399\n",
      "Epoch 114/200\n",
      "537/537 [==============================] - 0s 253us/step - loss: 0.3443 - accuracy: 0.8399\n",
      "Epoch 115/200\n",
      "537/537 [==============================] - 0s 209us/step - loss: 0.3427 - accuracy: 0.8399\n",
      "Epoch 116/200\n",
      "537/537 [==============================] - 0s 179us/step - loss: 0.3427 - accuracy: 0.8417\n",
      "Epoch 117/200\n",
      "537/537 [==============================] - 0s 194us/step - loss: 0.3427 - accuracy: 0.8436\n",
      "Epoch 118/200\n",
      "537/537 [==============================] - 0s 268us/step - loss: 0.3420 - accuracy: 0.8399\n",
      "Epoch 119/200\n",
      "537/537 [==============================] - 0s 358us/step - loss: 0.3413 - accuracy: 0.8436\n",
      "Epoch 120/200\n",
      "537/537 [==============================] - 0s 358us/step - loss: 0.3409 - accuracy: 0.8454\n",
      "Epoch 121/200\n",
      "537/537 [==============================] - 0s 273us/step - loss: 0.3412 - accuracy: 0.8454\n",
      "Epoch 122/200\n",
      "537/537 [==============================] - 0s 228us/step - loss: 0.3389 - accuracy: 0.8454\n",
      "Epoch 123/200\n",
      "537/537 [==============================] - 0s 228us/step - loss: 0.3395 - accuracy: 0.8417\n",
      "Epoch 124/200\n",
      "537/537 [==============================] - 0s 209us/step - loss: 0.3389 - accuracy: 0.8454\n",
      "Epoch 125/200\n",
      "537/537 [==============================] - 0s 179us/step - loss: 0.3390 - accuracy: 0.8436\n",
      "Epoch 126/200\n",
      "537/537 [==============================] - 0s 298us/step - loss: 0.3376 - accuracy: 0.8473\n",
      "Epoch 127/200\n",
      "537/537 [==============================] - 0s 194us/step - loss: 0.3378 - accuracy: 0.8436\n",
      "Epoch 128/200\n",
      "537/537 [==============================] - 0s 268us/step - loss: 0.3370 - accuracy: 0.8436\n",
      "Epoch 129/200\n",
      "537/537 [==============================] - 0s 209us/step - loss: 0.3366 - accuracy: 0.8473\n",
      "Epoch 130/200\n",
      "537/537 [==============================] - 0s 209us/step - loss: 0.3358 - accuracy: 0.8492\n",
      "Epoch 131/200\n",
      "537/537 [==============================] - 0s 134us/step - loss: 0.3362 - accuracy: 0.8473\n",
      "Epoch 132/200\n",
      "537/537 [==============================] - 0s 272us/step - loss: 0.3363 - accuracy: 0.8454\n",
      "Epoch 133/200\n",
      "537/537 [==============================] - 0s 179us/step - loss: 0.3355 - accuracy: 0.8473\n",
      "Epoch 134/200\n",
      "537/537 [==============================] - 0s 179us/step - loss: 0.3353 - accuracy: 0.8454\n",
      "Epoch 135/200\n",
      "537/537 [==============================] - 0s 229us/step - loss: 0.3342 - accuracy: 0.8473\n",
      "Epoch 136/200\n",
      "537/537 [==============================] - 0s 209us/step - loss: 0.3338 - accuracy: 0.8454\n",
      "Epoch 137/200\n",
      "537/537 [==============================] - 0s 283us/step - loss: 0.3330 - accuracy: 0.8473\n",
      "Epoch 138/200\n",
      "537/537 [==============================] - 0s 313us/step - loss: 0.3329 - accuracy: 0.8454\n",
      "Epoch 139/200\n",
      "537/537 [==============================] - 0s 298us/step - loss: 0.3325 - accuracy: 0.8454\n",
      "Epoch 140/200\n",
      "537/537 [==============================] - 0s 194us/step - loss: 0.3322 - accuracy: 0.8436\n",
      "Epoch 141/200\n",
      "537/537 [==============================] - 0s 268us/step - loss: 0.3311 - accuracy: 0.8473\n",
      "Epoch 142/200\n",
      "537/537 [==============================] - 0s 164us/step - loss: 0.3308 - accuracy: 0.8454\n",
      "Epoch 143/200\n",
      "537/537 [==============================] - 0s 164us/step - loss: 0.3304 - accuracy: 0.8436\n",
      "Epoch 144/200\n",
      "537/537 [==============================] - 0s 164us/step - loss: 0.3306 - accuracy: 0.8436\n",
      "Epoch 145/200\n",
      "537/537 [==============================] - 0s 134us/step - loss: 0.3301 - accuracy: 0.8473\n",
      "Epoch 146/200\n",
      "537/537 [==============================] - 0s 288us/step - loss: 0.3300 - accuracy: 0.8436\n",
      "Epoch 147/200\n",
      "537/537 [==============================] - 0s 168us/step - loss: 0.3294 - accuracy: 0.8436\n",
      "Epoch 148/200\n",
      "537/537 [==============================] - 0s 149us/step - loss: 0.3292 - accuracy: 0.8454\n",
      "Epoch 149/200\n",
      "537/537 [==============================] - 0s 194us/step - loss: 0.3289 - accuracy: 0.8454\n",
      "Epoch 150/200\n",
      "537/537 [==============================] - 0s 179us/step - loss: 0.3275 - accuracy: 0.8436\n",
      "Epoch 151/200\n",
      "537/537 [==============================] - 0s 194us/step - loss: 0.3280 - accuracy: 0.84360s - loss: 0.3315 - accuracy: 0.84\n",
      "Epoch 152/200\n",
      "537/537 [==============================] - 0s 149us/step - loss: 0.3266 - accuracy: 0.8454\n",
      "Epoch 153/200\n",
      "537/537 [==============================] - 0s 139us/step - loss: 0.3271 - accuracy: 0.8473\n",
      "Epoch 154/200\n",
      "537/537 [==============================] - 0s 194us/step - loss: 0.3259 - accuracy: 0.8473\n",
      "Epoch 155/200\n",
      "537/537 [==============================] - 0s 173us/step - loss: 0.3262 - accuracy: 0.8436\n",
      "Epoch 156/200\n",
      "537/537 [==============================] - 0s 194us/step - loss: 0.3254 - accuracy: 0.8436\n",
      "Epoch 157/200\n",
      "537/537 [==============================] - 0s 313us/step - loss: 0.3260 - accuracy: 0.8454\n",
      "Epoch 158/200\n",
      "537/537 [==============================] - 0s 164us/step - loss: 0.3245 - accuracy: 0.8454\n",
      "Epoch 159/200\n",
      "537/537 [==============================] - 0s 149us/step - loss: 0.3251 - accuracy: 0.8454\n",
      "Epoch 160/200\n",
      "537/537 [==============================] - 0s 164us/step - loss: 0.3240 - accuracy: 0.8492\n",
      "Epoch 161/200\n",
      "537/537 [==============================] - 0s 164us/step - loss: 0.3230 - accuracy: 0.8454\n",
      "Epoch 162/200\n",
      "537/537 [==============================] - 0s 139us/step - loss: 0.3226 - accuracy: 0.8436\n",
      "Epoch 163/200\n",
      "537/537 [==============================] - 0s 154us/step - loss: 0.3249 - accuracy: 0.8454\n",
      "Epoch 164/200\n",
      "537/537 [==============================] - 0s 164us/step - loss: 0.3217 - accuracy: 0.8454\n",
      "Epoch 165/200\n",
      "537/537 [==============================] - 0s 194us/step - loss: 0.3220 - accuracy: 0.8492\n",
      "Epoch 166/200\n",
      "537/537 [==============================] - 0s 169us/step - loss: 0.3206 - accuracy: 0.8492\n",
      "Epoch 167/200\n",
      "537/537 [==============================] - 0s 298us/step - loss: 0.3203 - accuracy: 0.8473\n",
      "Epoch 168/200\n",
      "537/537 [==============================] - 0s 422us/step - loss: 0.3197 - accuracy: 0.8510\n",
      "Epoch 169/200\n",
      "537/537 [==============================] - 0s 286us/step - loss: 0.3194 - accuracy: 0.8492\n",
      "Epoch 170/200\n",
      "537/537 [==============================] - 0s 243us/step - loss: 0.3202 - accuracy: 0.8492\n",
      "Epoch 171/200\n",
      "537/537 [==============================] - 0s 191us/step - loss: 0.3193 - accuracy: 0.8473\n",
      "Epoch 172/200\n",
      "537/537 [==============================] - 0s 188us/step - loss: 0.3183 - accuracy: 0.8473\n",
      "Epoch 173/200\n",
      "537/537 [==============================] - 0s 168us/step - loss: 0.3194 - accuracy: 0.8492\n",
      "Epoch 174/200\n",
      "537/537 [==============================] - 0s 132us/step - loss: 0.3176 - accuracy: 0.8510\n",
      "Epoch 175/200\n",
      "537/537 [==============================] - 0s 151us/step - loss: 0.3165 - accuracy: 0.8492\n",
      "Epoch 176/200\n",
      "537/537 [==============================] - 0s 191us/step - loss: 0.3163 - accuracy: 0.8492\n",
      "Epoch 177/200\n",
      "537/537 [==============================] - 0s 164us/step - loss: 0.3163 - accuracy: 0.8510\n",
      "Epoch 178/200\n",
      "537/537 [==============================] - 0s 164us/step - loss: 0.3152 - accuracy: 0.8510\n",
      "Epoch 179/200\n",
      "537/537 [==============================] - 0s 238us/step - loss: 0.3150 - accuracy: 0.8529\n",
      "Epoch 180/200\n",
      "537/537 [==============================] - 0s 228us/step - loss: 0.3164 - accuracy: 0.8473\n",
      "Epoch 181/200\n",
      "537/537 [==============================] - 0s 164us/step - loss: 0.3151 - accuracy: 0.8529\n",
      "Epoch 182/200\n",
      "537/537 [==============================] - 0s 358us/step - loss: 0.3132 - accuracy: 0.8566\n",
      "Epoch 183/200\n",
      "537/537 [==============================] - 0s 238us/step - loss: 0.3126 - accuracy: 0.8510\n",
      "Epoch 184/200\n",
      "537/537 [==============================] - 0s 223us/step - loss: 0.3123 - accuracy: 0.8510\n",
      "Epoch 185/200\n",
      "537/537 [==============================] - 0s 149us/step - loss: 0.3123 - accuracy: 0.8510\n",
      "Epoch 186/200\n",
      "537/537 [==============================] - 0s 195us/step - loss: 0.3120 - accuracy: 0.8529\n",
      "Epoch 187/200\n",
      "537/537 [==============================] - 0s 209us/step - loss: 0.3113 - accuracy: 0.8529\n",
      "Epoch 188/200\n",
      "537/537 [==============================] - 0s 194us/step - loss: 0.3134 - accuracy: 0.8473\n",
      "Epoch 189/200\n",
      "537/537 [==============================] - 0s 149us/step - loss: 0.3117 - accuracy: 0.8529\n",
      "Epoch 190/200\n",
      "537/537 [==============================] - 0s 164us/step - loss: 0.3096 - accuracy: 0.8510\n",
      "Epoch 191/200\n",
      "537/537 [==============================] - 0s 194us/step - loss: 0.3101 - accuracy: 0.8566\n",
      "Epoch 192/200\n",
      "537/537 [==============================] - 0s 164us/step - loss: 0.3080 - accuracy: 0.8585\n",
      "Epoch 193/200\n",
      "537/537 [==============================] - 0s 149us/step - loss: 0.3081 - accuracy: 0.8529\n",
      "Epoch 194/200\n",
      "537/537 [==============================] - 0s 238us/step - loss: 0.3073 - accuracy: 0.8547\n",
      "Epoch 195/200\n",
      "537/537 [==============================] - 0s 169us/step - loss: 0.3081 - accuracy: 0.8529\n",
      "Epoch 196/200\n",
      "537/537 [==============================] - 0s 149us/step - loss: 0.3069 - accuracy: 0.8510\n",
      "Epoch 197/200\n",
      "537/537 [==============================] - 0s 223us/step - loss: 0.3066 - accuracy: 0.8547\n",
      "Epoch 198/200\n",
      "537/537 [==============================] - 0s 149us/step - loss: 0.3074 - accuracy: 0.8529\n",
      "Epoch 199/200\n",
      "537/537 [==============================] - 0s 184us/step - loss: 0.3046 - accuracy: 0.8547\n",
      "Epoch 200/200\n",
      "537/537 [==============================] - 0s 209us/step - loss: 0.3055 - accuracy: 0.8529\n"
     ]
    },
    {
     "data": {
      "text/plain": [
       "<keras.callbacks.callbacks.History at 0x17c45e70f88>"
      ]
     },
     "execution_count": 45,
     "metadata": {},
     "output_type": "execute_result"
    }
   ],
   "source": [
    "model_3.fit(train_x,train_y,epochs=200)"
   ]
  },
  {
   "cell_type": "markdown",
   "metadata": {},
   "source": [
    "#### Predicting and analysing the outcome of the model on the training dataset"
   ]
  },
  {
   "cell_type": "code",
   "execution_count": 46,
   "metadata": {},
   "outputs": [
    {
     "data": {
      "text/html": [
       "<div>\n",
       "<style scoped>\n",
       "    .dataframe tbody tr th:only-of-type {\n",
       "        vertical-align: middle;\n",
       "    }\n",
       "\n",
       "    .dataframe tbody tr th {\n",
       "        vertical-align: top;\n",
       "    }\n",
       "\n",
       "    .dataframe thead th {\n",
       "        text-align: right;\n",
       "    }\n",
       "</style>\n",
       "<table border=\"1\" class=\"dataframe\">\n",
       "  <thead>\n",
       "    <tr style=\"text-align: right;\">\n",
       "      <th></th>\n",
       "      <th>Predicted Prone</th>\n",
       "      <th>Predicted Not Prone</th>\n",
       "    </tr>\n",
       "  </thead>\n",
       "  <tbody>\n",
       "    <tr>\n",
       "      <th>Prone</th>\n",
       "      <td>314</td>\n",
       "      <td>35</td>\n",
       "    </tr>\n",
       "    <tr>\n",
       "      <th>Not Prone</th>\n",
       "      <td>45</td>\n",
       "      <td>143</td>\n",
       "    </tr>\n",
       "  </tbody>\n",
       "</table>\n",
       "</div>"
      ],
      "text/plain": [
       "           Predicted Prone  Predicted Not Prone\n",
       "Prone                  314                   35\n",
       "Not Prone               45                  143"
      ]
     },
     "execution_count": 46,
     "metadata": {},
     "output_type": "execute_result"
    }
   ],
   "source": [
    "confusion_table = pd.DataFrame(data =confusion_matrix(train_y,model_3.predict_classes(train_x)), index=['Prone','Not Prone'], columns = ['Predicted Prone','Predicted Not Prone'])\n",
    "confusion_table"
   ]
  },
  {
   "cell_type": "code",
   "execution_count": 47,
   "metadata": {},
   "outputs": [
    {
     "name": "stdout",
     "output_type": "stream",
     "text": [
      "537/537 [==============================] - 0s 387us/step\n",
      "Accuracy on train dataset: 85.10\n"
     ]
    }
   ],
   "source": [
    "score1 = model_3.evaluate(train_x,train_y)\n",
    "print('Accuracy on train dataset: %.2f' %(score1[1]*100))"
   ]
  },
  {
   "cell_type": "markdown",
   "metadata": {},
   "source": [
    "#### Predicting and analysing the outcome of the model on the test dataset"
   ]
  },
  {
   "cell_type": "code",
   "execution_count": 48,
   "metadata": {},
   "outputs": [],
   "source": [
    "predictions_3 = model_3.predict_classes(test_x)"
   ]
  },
  {
   "cell_type": "code",
   "execution_count": 49,
   "metadata": {},
   "outputs": [
    {
     "data": {
      "text/html": [
       "<div>\n",
       "<style scoped>\n",
       "    .dataframe tbody tr th:only-of-type {\n",
       "        vertical-align: middle;\n",
       "    }\n",
       "\n",
       "    .dataframe tbody tr th {\n",
       "        vertical-align: top;\n",
       "    }\n",
       "\n",
       "    .dataframe thead th {\n",
       "        text-align: right;\n",
       "    }\n",
       "</style>\n",
       "<table border=\"1\" class=\"dataframe\">\n",
       "  <thead>\n",
       "    <tr style=\"text-align: right;\">\n",
       "      <th></th>\n",
       "      <th>Predicted Prone</th>\n",
       "      <th>Predicted Not Prone</th>\n",
       "    </tr>\n",
       "  </thead>\n",
       "  <tbody>\n",
       "    <tr>\n",
       "      <th>Prone</th>\n",
       "      <td>121</td>\n",
       "      <td>30</td>\n",
       "    </tr>\n",
       "    <tr>\n",
       "      <th>Not Prone</th>\n",
       "      <td>31</td>\n",
       "      <td>49</td>\n",
       "    </tr>\n",
       "  </tbody>\n",
       "</table>\n",
       "</div>"
      ],
      "text/plain": [
       "           Predicted Prone  Predicted Not Prone\n",
       "Prone                  121                   30\n",
       "Not Prone               31                   49"
      ]
     },
     "execution_count": 49,
     "metadata": {},
     "output_type": "execute_result"
    }
   ],
   "source": [
    "confusion_matrix_3 =  confusion_matrix(test_y,predictions_3)\n",
    "confusion_table_3 = pd.DataFrame(data = confusion_matrix_3, index=['Prone','Not Prone'], columns = ['Predicted Prone','Predicted Not Prone'])\n",
    "confusion_table_3"
   ]
  },
  {
   "cell_type": "code",
   "execution_count": 50,
   "metadata": {},
   "outputs": [
    {
     "data": {
      "text/plain": [
       "73.59307359307358"
      ]
     },
     "execution_count": 50,
     "metadata": {},
     "output_type": "execute_result"
    }
   ],
   "source": [
    "array_3 = np.array(confusion_matrix_3)\n",
    "accuracy_3 = ((array_3[0,0]+array_3[1,1])/array.sum())*100\n",
    "accuracy_3"
   ]
  },
  {
   "cell_type": "code",
   "execution_count": 51,
   "metadata": {},
   "outputs": [],
   "source": [
    "y_score_3 = model_3.predict(test_x)"
   ]
  },
  {
   "cell_type": "code",
   "execution_count": 52,
   "metadata": {},
   "outputs": [
    {
     "data": {
      "text/plain": [
       "Text(0, 0.5, 'TPR')"
      ]
     },
     "execution_count": 52,
     "metadata": {},
     "output_type": "execute_result"
    },
    {
     "data": {
      "image/png": "[encoded data removed]",
      "text/plain": [
       "<Figure size 432x288 with 1 Axes>"
      ]
     },
     "metadata": {},
     "output_type": "display_data"
    }
   ],
   "source": [
    "FPR,TPR,k = roc_curve(test_y,y_score_3)\n",
    "plt.plot(FPR,TPR)\n",
    "plt.plot([0,1],[0,1],'--',color = 'black')\n",
    "plt.xlabel('FPR')\n",
    "plt.ylabel('TPR')"
   ]
  },
  {
   "cell_type": "code",
   "execution_count": 53,
   "metadata": {},
   "outputs": [
    {
     "data": {
      "text/plain": [
       "0.7795529801324503"
      ]
     },
     "execution_count": 53,
     "metadata": {},
     "output_type": "execute_result"
    }
   ],
   "source": [
    "roc_auc_score(test_y,y_score_3)"
   ]
  },
  {
   "cell_type": "markdown",
   "metadata": {},
   "source": [
    "The area under the curve is 0.78"
   ]
  },
  {
   "cell_type": "markdown",
   "metadata": {},
   "source": [
    "### Conclusion"
   ]
  },
  {
   "cell_type": "markdown",
   "metadata": {},
   "source": [
    "The Random Forest Classifier appears to have the highest area under the curve, however, tuning the hyper parameters of the deep neural network could lead to better model.\n"
   ]
  },
  {
   "cell_type": "code",
   "execution_count": null,
   "metadata": {},
   "outputs": [],
   "source": []
  }
 ],
 "metadata": {
  "kernelspec": {
   "display_name": "Python 3",
   "language": "python",
   "name": "python3"
  },
  "language_info": {
   "codemirror_mode": {
    "name": "ipython",
    "version": 3
   },
   "file_extension": ".py",
   "mimetype": "text/x-python",
   "name": "python",
   "nbconvert_exporter": "python",
   "pygments_lexer": "ipython3",
   "version": "3.7.6"
  }
 },
 "nbformat": 4,
 "nbformat_minor": 4
}
